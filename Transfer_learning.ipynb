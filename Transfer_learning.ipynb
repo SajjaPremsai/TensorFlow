{
  "nbformat": 4,
  "nbformat_minor": 0,
  "metadata": {
    "colab": {
      "provenance": [],
      "gpuType": "T4"
    },
    "kernelspec": {
      "name": "python3",
      "display_name": "Python 3"
    },
    "language_info": {
      "name": "python"
    },
    "accelerator": "GPU"
  },
  "cells": [
    {
      "cell_type": "code",
      "execution_count": null,
      "metadata": {
        "colab": {
          "base_uri": "https://localhost:8080/"
        },
        "id": "hZhpykQmxEox",
        "outputId": "5bc2b5c8-fbc7-48f8-f5c3-3bd455db6e7b"
      },
      "outputs": [
        {
          "output_type": "stream",
          "name": "stdout",
          "text": [
            "Thu May 23 05:44:21 2024       \n",
            "+---------------------------------------------------------------------------------------+\n",
            "| NVIDIA-SMI 535.104.05             Driver Version: 535.104.05   CUDA Version: 12.2     |\n",
            "|-----------------------------------------+----------------------+----------------------+\n",
            "| GPU  Name                 Persistence-M | Bus-Id        Disp.A | Volatile Uncorr. ECC |\n",
            "| Fan  Temp   Perf          Pwr:Usage/Cap |         Memory-Usage | GPU-Util  Compute M. |\n",
            "|                                         |                      |               MIG M. |\n",
            "|=========================================+======================+======================|\n",
            "|   0  Tesla T4                       Off | 00000000:00:04.0 Off |                    0 |\n",
            "| N/A   44C    P8              11W /  70W |      0MiB / 15360MiB |      0%      Default |\n",
            "|                                         |                      |                  N/A |\n",
            "+-----------------------------------------+----------------------+----------------------+\n",
            "                                                                                         \n",
            "+---------------------------------------------------------------------------------------+\n",
            "| Processes:                                                                            |\n",
            "|  GPU   GI   CI        PID   Type   Process name                            GPU Memory |\n",
            "|        ID   ID                                                             Usage      |\n",
            "|=======================================================================================|\n",
            "|  No running processes found                                                           |\n",
            "+---------------------------------------------------------------------------------------+\n"
          ]
        }
      ],
      "source": [
        "!nvidia-smi"
      ]
    },
    {
      "cell_type": "code",
      "source": [
        "import zipfile\n",
        "!wget https://storage.googleapis.com/ztm_tf_course/food_vision/10_food_classes_10_percent.zip\n",
        "zip_ref = zipfile.ZipFile(\"10_food_classes_10_percent.zip\")\n",
        "zip_ref.extractall()\n",
        "zip_ref.close()"
      ],
      "metadata": {
        "colab": {
          "base_uri": "https://localhost:8080/"
        },
        "id": "XveCFCGczpFf",
        "outputId": "34e9e0eb-8cac-4c0d-8716-2d855c5631e2"
      },
      "execution_count": null,
      "outputs": [
        {
          "output_type": "stream",
          "name": "stdout",
          "text": [
            "--2024-05-23 05:44:21--  https://storage.googleapis.com/ztm_tf_course/food_vision/10_food_classes_10_percent.zip\n",
            "Resolving storage.googleapis.com (storage.googleapis.com)... 74.125.130.207, 74.125.68.207, 64.233.170.207, ...\n",
            "Connecting to storage.googleapis.com (storage.googleapis.com)|74.125.130.207|:443... connected.\n",
            "HTTP request sent, awaiting response... 200 OK\n",
            "Length: 168546183 (161M) [application/zip]\n",
            "Saving to: ‘10_food_classes_10_percent.zip’\n",
            "\n",
            "10_food_classes_10_ 100%[===================>] 160.74M  22.4MB/s    in 8.5s    \n",
            "\n",
            "2024-05-23 05:44:31 (18.8 MB/s) - ‘10_food_classes_10_percent.zip’ saved [168546183/168546183]\n",
            "\n"
          ]
        }
      ]
    },
    {
      "cell_type": "code",
      "source": [
        "import os\n",
        "for dirpath,dirnames,filenames in os.walk(\"10_food_classes_10_percent\"):\n",
        "    print(f\"{dirpath} - {dirnames} - {len(filenames)}\")"
      ],
      "metadata": {
        "colab": {
          "base_uri": "https://localhost:8080/"
        },
        "id": "s_Gh0MC203zP",
        "outputId": "7024602d-8069-46a4-c475-f4ba6abf6e1e"
      },
      "execution_count": null,
      "outputs": [
        {
          "output_type": "stream",
          "name": "stdout",
          "text": [
            "10_food_classes_10_percent - ['train', 'test'] - 0\n",
            "10_food_classes_10_percent/train - ['pizza', 'chicken_wings', 'ice_cream', 'sushi', 'grilled_salmon', 'hamburger', 'steak', 'fried_rice', 'ramen', 'chicken_curry'] - 0\n",
            "10_food_classes_10_percent/train/pizza - [] - 75\n",
            "10_food_classes_10_percent/train/chicken_wings - [] - 75\n",
            "10_food_classes_10_percent/train/ice_cream - [] - 75\n",
            "10_food_classes_10_percent/train/sushi - [] - 75\n",
            "10_food_classes_10_percent/train/grilled_salmon - [] - 75\n",
            "10_food_classes_10_percent/train/hamburger - [] - 75\n",
            "10_food_classes_10_percent/train/steak - [] - 75\n",
            "10_food_classes_10_percent/train/fried_rice - [] - 75\n",
            "10_food_classes_10_percent/train/ramen - [] - 75\n",
            "10_food_classes_10_percent/train/chicken_curry - [] - 75\n",
            "10_food_classes_10_percent/test - ['pizza', 'chicken_wings', 'ice_cream', 'sushi', 'grilled_salmon', 'hamburger', 'steak', 'fried_rice', 'ramen', 'chicken_curry'] - 0\n",
            "10_food_classes_10_percent/test/pizza - [] - 250\n",
            "10_food_classes_10_percent/test/chicken_wings - [] - 250\n",
            "10_food_classes_10_percent/test/ice_cream - [] - 250\n",
            "10_food_classes_10_percent/test/sushi - [] - 250\n",
            "10_food_classes_10_percent/test/grilled_salmon - [] - 250\n",
            "10_food_classes_10_percent/test/hamburger - [] - 250\n",
            "10_food_classes_10_percent/test/steak - [] - 250\n",
            "10_food_classes_10_percent/test/fried_rice - [] - 250\n",
            "10_food_classes_10_percent/test/ramen - [] - 250\n",
            "10_food_classes_10_percent/test/chicken_curry - [] - 250\n"
          ]
        }
      ]
    },
    {
      "cell_type": "code",
      "source": [
        "class_names = os.listdir(\"10_food_classes_10_percent/train\")\n",
        "class_names"
      ],
      "metadata": {
        "colab": {
          "base_uri": "https://localhost:8080/"
        },
        "id": "hoiYv9O81ICr",
        "outputId": "5d719cfd-8ac5-4e45-a66b-f851638eeddc"
      },
      "execution_count": null,
      "outputs": [
        {
          "output_type": "execute_result",
          "data": {
            "text/plain": [
              "['pizza',\n",
              " 'chicken_wings',\n",
              " 'ice_cream',\n",
              " 'sushi',\n",
              " 'grilled_salmon',\n",
              " 'hamburger',\n",
              " 'steak',\n",
              " 'fried_rice',\n",
              " 'ramen',\n",
              " 'chicken_curry']"
            ]
          },
          "metadata": {},
          "execution_count": 4
        }
      ]
    },
    {
      "cell_type": "code",
      "source": [
        "from tensorflow.keras.preprocessing.image import ImageDataGenerator\n",
        "\n",
        "IMAGE_SHAPE = (224,224)\n",
        "BATCH_SIZE  = 32\n",
        "\n",
        "train_dir = \"10_food_classes_10_percent/train/\"\n",
        "test_dir  = \"10_food_classes_10_percent/test/\"\n",
        "\n",
        "\n",
        "\n",
        "train_datagen = ImageDataGenerator(1/255.)\n",
        "test_datagen  = ImageDataGenerator(1/255.)\n",
        "\n",
        "print(\"Training Images\")\n",
        "\n",
        "train_data = train_datagen.flow_from_directory(train_dir,target_size=IMAGE_SHAPE,batch_size=BATCH_SIZE,class_mode=\"categorical\")\n",
        "\n",
        "print(\"Training Images\")\n",
        "\n",
        "test_data = test_datagen.flow_from_directory(test_dir,target_size=IMAGE_SHAPE,batch_size=BATCH_SIZE,class_mode=\"categorical\")"
      ],
      "metadata": {
        "colab": {
          "base_uri": "https://localhost:8080/"
        },
        "id": "zXUQAUkW1Y5U",
        "outputId": "e7221990-204a-4fe7-bdd8-3234cccda9f1"
      },
      "execution_count": null,
      "outputs": [
        {
          "output_type": "stream",
          "name": "stdout",
          "text": [
            "Training Images\n",
            "Found 750 images belonging to 10 classes.\n",
            "Training Images\n",
            "Found 2500 images belonging to 10 classes.\n"
          ]
        }
      ]
    },
    {
      "cell_type": "code",
      "source": [
        "## callbacks\n",
        "import datetime\n",
        "import tensorflow as tf\n",
        "def create_tensorboard_callback(dir_name,experiment_name):\n",
        "  log_dir = dir_name + \"/\" + experiment_name + \"/\" +  datetime.datetime.now().strftime(\"%Y%m%d-%H%M%S\")\n",
        "  tensorflow_board = tf.keras.callbacks.TensorBoard(log_dir=log_dir)\n",
        "  print(\"Saving Tensorflow board to file : \",{log_dir})\n",
        "  return tensorflow_board"
      ],
      "metadata": {
        "id": "hEs3BvYf2f7j"
      },
      "execution_count": null,
      "outputs": []
    },
    {
      "cell_type": "code",
      "source": [
        "resnet_url = \"https://tfhub.dev/google/imagenet/resnet_v2_50/feature_vector/4\"\n",
        "efficientnet_url = \"https://www.kaggle.com/models/tensorflow/efficientnet/TensorFlow2/b0-classification/1\""
      ],
      "metadata": {
        "id": "Pge8nAfF8VUp"
      },
      "execution_count": null,
      "outputs": []
    },
    {
      "cell_type": "code",
      "source": [
        "import tensorflow_hub as hub\n",
        "import tensorflow as tf\n",
        "from tensorflow.keras import layers"
      ],
      "metadata": {
        "id": "jbhV6Wi5PqZc"
      },
      "execution_count": null,
      "outputs": []
    },
    {
      "cell_type": "code",
      "source": [
        "def create_feature_extractor(model_url,output_labels=10):\n",
        "  feature_extraction_layer = hub.KerasLayer(model_url,trainable=False,name=\"Feature_extraction_layer\",input_shape=(224,224,3))\n",
        "  model = tf.keras.Sequential([\n",
        "      feature_extraction_layer,\n",
        "      layers.Dense(output_labels,activation=\"softmax\",name=\"ouput_layer\")\n",
        "  ])\n",
        "  return model"
      ],
      "metadata": {
        "id": "Ghgj91EiPwmC"
      },
      "execution_count": null,
      "outputs": []
    },
    {
      "cell_type": "code",
      "source": [
        "resnet_model = create_feature_extractor(resnet_url,train_data.num_classes)"
      ],
      "metadata": {
        "id": "VwPf0bHVQqH5"
      },
      "execution_count": null,
      "outputs": []
    },
    {
      "cell_type": "code",
      "source": [
        "resnet_model.summary()"
      ],
      "metadata": {
        "colab": {
          "base_uri": "https://localhost:8080/"
        },
        "id": "csssnZc6QwhT",
        "outputId": "8173bd45-030e-46fd-87b4-276e35d71b48"
      },
      "execution_count": null,
      "outputs": [
        {
          "output_type": "stream",
          "name": "stdout",
          "text": [
            "Model: \"sequential_2\"\n",
            "_________________________________________________________________\n",
            " Layer (type)                Output Shape              Param #   \n",
            "=================================================================\n",
            " Feature_extraction_layer (  (None, 2048)              23564800  \n",
            " KerasLayer)                                                     \n",
            "                                                                 \n",
            " ouput_layer (Dense)         (None, 10)                20490     \n",
            "                                                                 \n",
            "=================================================================\n",
            "Total params: 23585290 (89.97 MB)\n",
            "Trainable params: 20490 (80.04 KB)\n",
            "Non-trainable params: 23564800 (89.89 MB)\n",
            "_________________________________________________________________\n"
          ]
        }
      ]
    },
    {
      "cell_type": "code",
      "source": [
        "resnet_model.compile(loss=tf.keras.losses.categorical_crossentropy,optimizer=tf.keras.optimizers.Adam(),metrics=[\"accuracy\"])"
      ],
      "metadata": {
        "id": "jhTqGCPARJRQ"
      },
      "execution_count": null,
      "outputs": []
    },
    {
      "cell_type": "code",
      "source": [
        "resnet_history = resnet_model.fit(train_data,\n",
        "                 epochs=5,\n",
        "                 steps_per_epoch=len(train_data),\n",
        "                 validation_data=test_data,\n",
        "                 validation_steps=len(test_data),\n",
        "                 callbacks=[create_tensorboard_callback(dir_name=\"tensorflow_hub\",experiment_name=\"ResNet\")])"
      ],
      "metadata": {
        "colab": {
          "base_uri": "https://localhost:8080/"
        },
        "id": "rhMaNY_NSATR",
        "outputId": "f7a545a1-13cd-4aec-cc71-479d5779b6b7"
      },
      "execution_count": null,
      "outputs": [
        {
          "output_type": "stream",
          "name": "stdout",
          "text": [
            "Saving Tensorflow board to file :  {'tensorflow_hub/ResNet/20240523-054839'}\n",
            "Epoch 1/5\n"
          ]
        },
        {
          "output_type": "stream",
          "name": "stderr",
          "text": [
            "/usr/local/lib/python3.10/dist-packages/keras/src/preprocessing/image.py:1862: UserWarning: This ImageDataGenerator specifies `featurewise_center`, but it hasn't been fit on any training data. Fit it first by calling `.fit(numpy_data)`.\n",
            "  warnings.warn(\n"
          ]
        },
        {
          "output_type": "stream",
          "name": "stdout",
          "text": [
            "24/24 [==============================] - 17s 502ms/step - loss: 126.1850 - accuracy: 0.1093 - val_loss: 60.1209 - val_accuracy: 0.1348\n",
            "Epoch 2/5\n",
            "24/24 [==============================] - 13s 541ms/step - loss: 49.4631 - accuracy: 0.1467 - val_loss: 52.0995 - val_accuracy: 0.1308\n",
            "Epoch 3/5\n",
            "24/24 [==============================] - 11s 488ms/step - loss: 48.3392 - accuracy: 0.1627 - val_loss: 54.4350 - val_accuracy: 0.1616\n",
            "Epoch 4/5\n",
            "24/24 [==============================] - 12s 492ms/step - loss: 36.9573 - accuracy: 0.1920 - val_loss: 35.1488 - val_accuracy: 0.1792\n",
            "Epoch 5/5\n",
            "24/24 [==============================] - 12s 496ms/step - loss: 35.5472 - accuracy: 0.2187 - val_loss: 34.5741 - val_accuracy: 0.2068\n"
          ]
        }
      ]
    },
    {
      "cell_type": "code",
      "source": [
        "import pandas as pd\n",
        "\n",
        "res_hist = pd.DataFrame(resnet_history.history,resnet_history.history['val_accuracy'])\n",
        "res_hist.plot(title=\"Resnet Loss Cruves\")"
      ],
      "metadata": {
        "colab": {
          "base_uri": "https://localhost:8080/",
          "height": 469
        },
        "id": "hvmE8EDFWcvT",
        "outputId": "c62978a2-79c3-4b1d-83e4-eccebec14bac"
      },
      "execution_count": null,
      "outputs": [
        {
          "output_type": "execute_result",
          "data": {
            "text/plain": [
              "<Axes: title={'center': 'Resnet Loss Cruves'}>"
            ]
          },
          "metadata": {},
          "execution_count": 33
        },
        {
          "output_type": "display_data",
          "data": {
            "text/plain": [
              "<Figure size 640x480 with 1 Axes>"
            ],
            "image/png": "[encoded data removed]"
          },
          "metadata": {}
        }
      ]
    },
    {
      "cell_type": "code",
      "source": [
        "efficient_model = create_feature_extractor(efficientnet_url)"
      ],
      "metadata": {
        "id": "-_BdvO9gXfNQ"
      },
      "execution_count": null,
      "outputs": []
    },
    {
      "cell_type": "code",
      "source": [
        "efficient_model.summary()"
      ],
      "metadata": {
        "colab": {
          "base_uri": "https://localhost:8080/"
        },
        "id": "5XwbrbSwXmSN",
        "outputId": "25edefdf-0795-4d60-9ac7-1326b1bfe266"
      },
      "execution_count": null,
      "outputs": [
        {
          "output_type": "stream",
          "name": "stdout",
          "text": [
            "Model: \"sequential_3\"\n",
            "_________________________________________________________________\n",
            " Layer (type)                Output Shape              Param #   \n",
            "=================================================================\n",
            " Feature_extraction_layer (  (None, 1000)              5330564   \n",
            " KerasLayer)                                                     \n",
            "                                                                 \n",
            " ouput_layer (Dense)         (None, 10)                10010     \n",
            "                                                                 \n",
            "=================================================================\n",
            "Total params: 5340574 (20.37 MB)\n",
            "Trainable params: 10010 (39.10 KB)\n",
            "Non-trainable params: 5330564 (20.33 MB)\n",
            "_________________________________________________________________\n"
          ]
        }
      ]
    },
    {
      "cell_type": "code",
      "source": [
        "efficient_model.compile(loss=tf.keras.losses.categorical_crossentropy,optimizer=tf.keras.optimizers.Adam(),metrics=[\"accuracy\"])\n",
        "efficient_history = efficient_model.fit(train_data,\n",
        "                 epochs=5,\n",
        "                 steps_per_epoch=len(train_data),\n",
        "                 validation_data=test_data,\n",
        "                 validation_steps=len(test_data),\n",
        "                 callbacks=[create_tensorboard_callback(dir_name=\"tensorflow_hub\",experiment_name=\"ResNet\")])"
      ],
      "metadata": {
        "colab": {
          "base_uri": "https://localhost:8080/"
        },
        "id": "VtaxXXzTXmcr",
        "outputId": "a4fda61f-309a-460c-fa9d-c6407acac8fa"
      },
      "execution_count": null,
      "outputs": [
        {
          "output_type": "stream",
          "name": "stdout",
          "text": [
            "Saving Tensorflow board to file :  {'tensorflow_hub/ResNet/20240523-055046'}\n",
            "Epoch 1/5\n"
          ]
        },
        {
          "output_type": "stream",
          "name": "stderr",
          "text": [
            "/usr/local/lib/python3.10/dist-packages/keras/src/preprocessing/image.py:1862: UserWarning: This ImageDataGenerator specifies `featurewise_center`, but it hasn't been fit on any training data. Fit it first by calling `.fit(numpy_data)`.\n",
            "  warnings.warn(\n"
          ]
        },
        {
          "output_type": "stream",
          "name": "stdout",
          "text": [
            "24/24 [==============================] - 25s 592ms/step - loss: 2.3044 - accuracy: 0.0920 - val_loss: 2.3019 - val_accuracy: 0.1076\n",
            "Epoch 2/5\n",
            "24/24 [==============================] - 11s 459ms/step - loss: 2.2975 - accuracy: 0.1267 - val_loss: 2.3016 - val_accuracy: 0.1080\n",
            "Epoch 3/5\n",
            "24/24 [==============================] - 11s 478ms/step - loss: 2.2914 - accuracy: 0.1653 - val_loss: 2.3013 - val_accuracy: 0.1064\n",
            "Epoch 4/5\n",
            "24/24 [==============================] - 13s 541ms/step - loss: 2.2855 - accuracy: 0.1973 - val_loss: 2.3011 - val_accuracy: 0.1068\n",
            "Epoch 5/5\n",
            "24/24 [==============================] - 13s 548ms/step - loss: 2.2794 - accuracy: 0.2227 - val_loss: 2.3010 - val_accuracy: 0.1112\n"
          ]
        }
      ]
    },
    {
      "cell_type": "code",
      "source": [
        "!tensorboard dev upload --logdir ./tensorflow_hub/ \\\n",
        "  --name \"EfficientNetB0 vs. ResNet50V2\" \\\n",
        "  --description \"Comparing two different TF Hub feature extraction models architectures using 10% of training images\" \\\n",
        "  --one_shot"
      ],
      "metadata": {
        "colab": {
          "base_uri": "https://localhost:8080/"
        },
        "id": "jsJchgYkAUUj",
        "outputId": "02629e48-66d1-4017-dbee-1c7736ab08c1"
      },
      "execution_count": null,
      "outputs": [
        {
          "output_type": "stream",
          "name": "stdout",
          "text": [
            "2024-05-23 05:52:37.976040: E external/local_xla/xla/stream_executor/cuda/cuda_dnn.cc:9261] Unable to register cuDNN factory: Attempting to register factory for plugin cuDNN when one has already been registered\n",
            "2024-05-23 05:52:37.976099: E external/local_xla/xla/stream_executor/cuda/cuda_fft.cc:607] Unable to register cuFFT factory: Attempting to register factory for plugin cuFFT when one has already been registered\n",
            "2024-05-23 05:52:37.977393: E external/local_xla/xla/stream_executor/cuda/cuda_blas.cc:1515] Unable to register cuBLAS factory: Attempting to register factory for plugin cuBLAS when one has already been registered\n",
            "2024-05-23 05:52:39.024210: W tensorflow/compiler/tf2tensorrt/utils/py_utils.cc:38] TF-TRT Warning: Could not find TensorRT\n",
            "****************************************************************\n",
            "****************************************************************\n",
            "****************************************************************\n",
            "\n",
            "Uploading TensorBoard logs to https://tensorboard.dev/ is no longer\n",
            "supported.\n",
            "\n",
            "TensorBoard.dev is shutting down.\n",
            "\n",
            "Please export your experiments by Dec 31, 2023.\n",
            "\n",
            "See the FAQ at https://tensorboard.dev.\n",
            "\n",
            "****************************************************************\n",
            "****************************************************************\n",
            "****************************************************************\n"
          ]
        }
      ]
    },
    {
      "cell_type": "code",
      "source": [
        "new_efficient = \"https://www.kaggle.com/models/google/efficientnet-v2/TensorFlow2/imagenet1k-b0-feature-vector/2\"\n",
        "new_efficient_model = create_feature_extractor(new_efficient)\n",
        "new_efficient_model.compile(loss=tf.keras.losses.categorical_crossentropy,optimizer=tf.keras.optimizers.Adam(),metrics=[\"accuracy\"])\n",
        "new_efficient_model_history = new_efficient_model.fit(test_data,\n",
        "                 epochs=5,\n",
        "                 steps_per_epoch=len(test_data),\n",
        "                 validation_data=train_data,\n",
        "                 validation_steps=len(train_data),\n",
        "                 callbacks=[create_tensorboard_callback(dir_name=\"tensorflow_hub\",experiment_name=\"EfficientNet\")])"
      ],
      "metadata": {
        "colab": {
          "base_uri": "https://localhost:8080/"
        },
        "id": "IOvcEuoMAnOf",
        "outputId": "c4bd2758-2757-4446-99fb-4c27508e8480"
      },
      "execution_count": null,
      "outputs": [
        {
          "output_type": "stream",
          "name": "stdout",
          "text": [
            "Saving Tensorflow board to file :  {'tensorflow_hub/EfficientNet/20240523-060511'}\n",
            "Epoch 1/5\n",
            "79/79 [==============================] - 21s 174ms/step - loss: 43.6283 - accuracy: 0.1052 - val_loss: 36.6681 - val_accuracy: 0.1280\n",
            "Epoch 2/5\n",
            "79/79 [==============================] - 11s 137ms/step - loss: 27.9127 - accuracy: 0.1520 - val_loss: 32.2945 - val_accuracy: 0.1320\n",
            "Epoch 3/5\n",
            "79/79 [==============================] - 11s 139ms/step - loss: 19.2778 - accuracy: 0.1952 - val_loss: 29.8469 - val_accuracy: 0.1267\n",
            "Epoch 4/5\n",
            "79/79 [==============================] - 12s 148ms/step - loss: 14.5475 - accuracy: 0.2440 - val_loss: 29.2888 - val_accuracy: 0.1467\n",
            "Epoch 5/5\n",
            "79/79 [==============================] - 11s 138ms/step - loss: 12.1447 - accuracy: 0.2740 - val_loss: 29.6744 - val_accuracy: 0.1200\n"
          ]
        }
      ]
    },
    {
      "cell_type": "code",
      "source": [],
      "metadata": {
        "id": "UVAikYu7BUTt"
      },
      "execution_count": null,
      "outputs": []
    }
  ]
}