{
  "nbformat": 4,
  "nbformat_minor": 0,
  "metadata": {
    "colab": {
      "provenance": [],
      "gpuType": "T4"
    },
    "kernelspec": {
      "name": "python3",
      "display_name": "Python 3"
    },
    "language_info": {
      "name": "python"
    },
    "accelerator": "GPU"
  },
  "cells": [
    {
      "cell_type": "markdown",
      "source": [
        "# Tensor Flow Fundamentals\n",
        "\n",
        "* Introduction to tensors\n",
        "* Getting information from tensors\n",
        "* Manipulating tensors\n",
        "* Tensors and Numpys\n",
        "* using @tf.function\n",
        "* using GPU with TensorFlow (or TPUs)\n"
      ],
      "metadata": {
        "id": "cqG7yOQXEuyB"
      }
    },
    {
      "cell_type": "markdown",
      "source": [
        "# Introduction to Tensors"
      ],
      "metadata": {
        "id": "Im5i_K9WE0gp"
      }
    },
    {
      "cell_type": "code",
      "source": [
        "#Import TensorFlow\n",
        "import tensorflow as tf\n",
        "print(tf.__version__)"
      ],
      "metadata": {
        "colab": {
          "base_uri": "https://localhost:8080/"
        },
        "id": "2Uum4l6WFhHt",
        "outputId": "a0bf35c7-cb76-41e9-fbbb-cb3eb198d5f5"
      },
      "execution_count": null,
      "outputs": [
        {
          "output_type": "stream",
          "name": "stdout",
          "text": [
            "2.15.0\n"
          ]
        }
      ]
    },
    {
      "cell_type": "code",
      "source": [
        "#Creating tensor using tf.constant()\n",
        "scalar = tf.constant(7)\n",
        "scalar"
      ],
      "metadata": {
        "colab": {
          "base_uri": "https://localhost:8080/"
        },
        "id": "ge0a3S6AF0fK",
        "outputId": "6fb0e4d6-cbbd-43e2-de30-4c77c8e38609"
      },
      "execution_count": null,
      "outputs": [
        {
          "output_type": "execute_result",
          "data": {
            "text/plain": [
              "<tf.Tensor: shape=(), dtype=int32, numpy=7>"
            ]
          },
          "metadata": {},
          "execution_count": 3
        }
      ]
    },
    {
      "cell_type": "code",
      "source": [
        "# Checking the no of dimensions of a tensor (ndim means the number of dimensions)\n",
        "scalar.ndim"
      ],
      "metadata": {
        "colab": {
          "base_uri": "https://localhost:8080/"
        },
        "id": "D5xTNLaSGek8",
        "outputId": "e3bdd969-f7e9-49e5-d701-68efe30978f4"
      },
      "execution_count": null,
      "outputs": [
        {
          "output_type": "execute_result",
          "data": {
            "text/plain": [
              "0"
            ]
          },
          "metadata": {},
          "execution_count": 4
        }
      ]
    },
    {
      "cell_type": "code",
      "source": [
        "#Creating a vector\n",
        "vector = tf.constant([[10,10],[20,30]])\n",
        "vector"
      ],
      "metadata": {
        "colab": {
          "base_uri": "https://localhost:8080/"
        },
        "id": "LeWtMkOUGneZ",
        "outputId": "5ded064f-18c7-495c-ab21-133ef35d1a42"
      },
      "execution_count": null,
      "outputs": [
        {
          "output_type": "execute_result",
          "data": {
            "text/plain": [
              "<tf.Tensor: shape=(2, 2), dtype=int32, numpy=\n",
              "array([[10, 10],\n",
              "       [20, 30]], dtype=int32)>"
            ]
          },
          "metadata": {},
          "execution_count": 5
        }
      ]
    },
    {
      "cell_type": "code",
      "source": [
        "vector.ndim"
      ],
      "metadata": {
        "colab": {
          "base_uri": "https://localhost:8080/"
        },
        "id": "yhMCadeNGzjm",
        "outputId": "06b3c489-cf96-4927-b5e3-50315c2d2d76"
      },
      "execution_count": null,
      "outputs": [
        {
          "output_type": "execute_result",
          "data": {
            "text/plain": [
              "2"
            ]
          },
          "metadata": {},
          "execution_count": 6
        }
      ]
    },
    {
      "cell_type": "code",
      "source": [
        "#Creating a matrix\n",
        "matrix = tf.constant([[1,2,3],[4,5,6]])\n",
        "matrix"
      ],
      "metadata": {
        "colab": {
          "base_uri": "https://localhost:8080/"
        },
        "id": "nbLd8jyQG-6G",
        "outputId": "241e1866-02d7-4c5b-f3fb-d2f4b84cf8e3"
      },
      "execution_count": null,
      "outputs": [
        {
          "output_type": "execute_result",
          "data": {
            "text/plain": [
              "<tf.Tensor: shape=(2, 3), dtype=int32, numpy=\n",
              "array([[1, 2, 3],\n",
              "       [4, 5, 6]], dtype=int32)>"
            ]
          },
          "metadata": {},
          "execution_count": 7
        }
      ]
    },
    {
      "cell_type": "code",
      "source": [
        "#Creating another matrix and specify the dtype\n",
        "float_matrix = tf.constant([[3.,4.,5.],\n",
        "                            [2.,1.,5.],\n",
        "                            [0.,9.,6]], dtype=tf.float16)\n",
        "float_matrix"
      ],
      "metadata": {
        "colab": {
          "base_uri": "https://localhost:8080/"
        },
        "id": "zEq_gYzbHQ65",
        "outputId": "1ea0f2ed-17fd-4729-8f80-0303924690bb"
      },
      "execution_count": null,
      "outputs": [
        {
          "output_type": "execute_result",
          "data": {
            "text/plain": [
              "<tf.Tensor: shape=(3, 3), dtype=float16, numpy=\n",
              "array([[3., 4., 5.],\n",
              "       [2., 1., 5.],\n",
              "       [0., 9., 6.]], dtype=float16)>"
            ]
          },
          "metadata": {},
          "execution_count": 8
        }
      ]
    },
    {
      "cell_type": "code",
      "source": [
        "float_matrix.ndim"
      ],
      "metadata": {
        "colab": {
          "base_uri": "https://localhost:8080/"
        },
        "id": "m1w2-qX4ICmw",
        "outputId": "82c41cfb-23c7-43e1-c912-9326c7e97cc4"
      },
      "execution_count": null,
      "outputs": [
        {
          "output_type": "execute_result",
          "data": {
            "text/plain": [
              "2"
            ]
          },
          "metadata": {},
          "execution_count": 9
        }
      ]
    },
    {
      "cell_type": "code",
      "source": [
        "#Creating another tensor\n",
        "tensor_matrix = tf.constant([[[1,2,3],\n",
        "                              [4,5,6]],\n",
        "                             [[2,3,4,],\n",
        "                             [4,5,6]],\n",
        "                             [[23,324,13],\n",
        "                              [3244,32,42]]])\n",
        "tensor_matrix"
      ],
      "metadata": {
        "colab": {
          "base_uri": "https://localhost:8080/"
        },
        "id": "CAWe6Iv2IF0T",
        "outputId": "9823a83e-0a65-4f6e-d5ab-2cc87998061a"
      },
      "execution_count": null,
      "outputs": [
        {
          "output_type": "execute_result",
          "data": {
            "text/plain": [
              "<tf.Tensor: shape=(3, 2, 3), dtype=int32, numpy=\n",
              "array([[[   1,    2,    3],\n",
              "        [   4,    5,    6]],\n",
              "\n",
              "       [[   2,    3,    4],\n",
              "        [   4,    5,    6]],\n",
              "\n",
              "       [[  23,  324,   13],\n",
              "        [3244,   32,   42]]], dtype=int32)>"
            ]
          },
          "metadata": {},
          "execution_count": 10
        }
      ]
    },
    {
      "cell_type": "code",
      "source": [
        "tensor_matrix.ndim"
      ],
      "metadata": {
        "colab": {
          "base_uri": "https://localhost:8080/"
        },
        "id": "zj6LhcbHIwU0",
        "outputId": "1a62e429-a2d4-40bb-d9e4-412387ea2197"
      },
      "execution_count": null,
      "outputs": [
        {
          "output_type": "execute_result",
          "data": {
            "text/plain": [
              "3"
            ]
          },
          "metadata": {},
          "execution_count": 11
        }
      ]
    },
    {
      "cell_type": "markdown",
      "source": [
        "* Scalar: A single number\n",
        "* Vector: A number with direction\n",
        "* Matrix: A 2-dimensional Array\n",
        "* Tensor: An n-dimensional Array of numbers(including 0-dim,1-dim,2-dim..)"
      ],
      "metadata": {
        "id": "VCO_xN7TIytS"
      }
    },
    {
      "cell_type": "markdown",
      "source": [
        "### Creating Tensor with `tf.Variable`"
      ],
      "metadata": {
        "id": "zPo2MNipJKVf"
      }
    },
    {
      "cell_type": "code",
      "source": [
        "changeable_tensor = tf.Variable([1,2,4])\n",
        "changeable_tensor"
      ],
      "metadata": {
        "colab": {
          "base_uri": "https://localhost:8080/"
        },
        "id": "dLVgxlCJJw1S",
        "outputId": "40430760-0363-4ce8-dfcb-bd62ddfd50b2"
      },
      "execution_count": null,
      "outputs": [
        {
          "output_type": "execute_result",
          "data": {
            "text/plain": [
              "<tf.Variable 'Variable:0' shape=(3,) dtype=int32, numpy=array([1, 2, 4], dtype=int32)>"
            ]
          },
          "metadata": {},
          "execution_count": 12
        }
      ]
    },
    {
      "cell_type": "code",
      "source": [
        "changeable_tensor[2].assign(3)\n",
        "changeable_tensor"
      ],
      "metadata": {
        "colab": {
          "base_uri": "https://localhost:8080/"
        },
        "id": "Sfl1ER5KK2B_",
        "outputId": "94084998-4f9b-49c2-a3ec-8c7783f50a5c"
      },
      "execution_count": null,
      "outputs": [
        {
          "output_type": "execute_result",
          "data": {
            "text/plain": [
              "<tf.Variable 'Variable:0' shape=(3,) dtype=int32, numpy=array([1, 2, 3], dtype=int32)>"
            ]
          },
          "metadata": {},
          "execution_count": 13
        }
      ]
    },
    {
      "cell_type": "code",
      "source": [
        "unchangeable_tensor = tf.constant([1,2,5])\n",
        "unchangeable_tensor"
      ],
      "metadata": {
        "colab": {
          "base_uri": "https://localhost:8080/"
        },
        "id": "BgvT5JiILCqa",
        "outputId": "d8a3b91a-cadc-439d-b5b6-f62b537ea602"
      },
      "execution_count": null,
      "outputs": [
        {
          "output_type": "execute_result",
          "data": {
            "text/plain": [
              "<tf.Tensor: shape=(3,), dtype=int32, numpy=array([1, 2, 5], dtype=int32)>"
            ]
          },
          "metadata": {},
          "execution_count": 14
        }
      ]
    },
    {
      "cell_type": "code",
      "source": [
        "unchangeable_tensor[2].assign(3)"
      ],
      "metadata": {
        "colab": {
          "base_uri": "https://localhost:8080/",
          "height": 263
        },
        "id": "RBhj4CrGLI9B",
        "outputId": "62eab7e7-b6c2-478f-c602-3f3146a5dff1"
      },
      "execution_count": null,
      "outputs": [
        {
          "output_type": "error",
          "ename": "AttributeError",
          "evalue": "'tensorflow.python.framework.ops.EagerTensor' object has no attribute 'assign'",
          "traceback": [
            "\u001b[0;31m---------------------------------------------------------------------------\u001b[0m",
            "\u001b[0;31mAttributeError\u001b[0m                            Traceback (most recent call last)",
            "\u001b[0;32m<ipython-input-15-bea345a2b0d7>\u001b[0m in \u001b[0;36m<cell line: 1>\u001b[0;34m()\u001b[0m\n\u001b[0;32m----> 1\u001b[0;31m \u001b[0munchangeable_tensor\u001b[0m\u001b[0;34m[\u001b[0m\u001b[0;36m2\u001b[0m\u001b[0;34m]\u001b[0m\u001b[0;34m.\u001b[0m\u001b[0massign\u001b[0m\u001b[0;34m(\u001b[0m\u001b[0;36m3\u001b[0m\u001b[0;34m)\u001b[0m\u001b[0;34m\u001b[0m\u001b[0;34m\u001b[0m\u001b[0m\n\u001b[0m",
            "\u001b[0;32m/usr/local/lib/python3.10/dist-packages/tensorflow/python/framework/tensor.py\u001b[0m in \u001b[0;36m__getattr__\u001b[0;34m(self, name)\u001b[0m\n\u001b[1;32m    259\u001b[0m         \u001b[0mtf\u001b[0m\u001b[0;34m.\u001b[0m\u001b[0mexperimental\u001b[0m\u001b[0;34m.\u001b[0m\u001b[0mnumpy\u001b[0m\u001b[0;34m.\u001b[0m\u001b[0mexperimental_enable_numpy_behavior\u001b[0m\u001b[0;34m(\u001b[0m\u001b[0;34m)\u001b[0m\u001b[0;34m\u001b[0m\u001b[0;34m\u001b[0m\u001b[0m\n\u001b[1;32m    260\u001b[0m       \"\"\")\n\u001b[0;32m--> 261\u001b[0;31m     \u001b[0mself\u001b[0m\u001b[0;34m.\u001b[0m\u001b[0m__getattribute__\u001b[0m\u001b[0;34m(\u001b[0m\u001b[0mname\u001b[0m\u001b[0;34m)\u001b[0m\u001b[0;34m\u001b[0m\u001b[0;34m\u001b[0m\u001b[0m\n\u001b[0m\u001b[1;32m    262\u001b[0m \u001b[0;34m\u001b[0m\u001b[0m\n\u001b[1;32m    263\u001b[0m   \u001b[0;34m@\u001b[0m\u001b[0mproperty\u001b[0m\u001b[0;34m\u001b[0m\u001b[0;34m\u001b[0m\u001b[0m\n",
            "\u001b[0;31mAttributeError\u001b[0m: 'tensorflow.python.framework.ops.EagerTensor' object has no attribute 'assign'"
          ]
        }
      ]
    },
    {
      "cell_type": "markdown",
      "source": [
        "### Creating a random tensor\n",
        "Random tensor are tensor of arbitary size of random numbers"
      ],
      "metadata": {
        "id": "MzsN7SWMLl-E"
      }
    },
    {
      "cell_type": "code",
      "source": [
        "#Creating random tensors\n",
        "random_tensor = tf.random.Generator.from_seed(42)\n",
        "random_tensor2 = tf.random.Generator.from_seed(42)\n",
        "random_1 = random_tensor.normal([4,2])\n",
        "random_2 = random_tensor2.normal([4,2])\n",
        "random_1 , random_2 , random_1 == random_2"
      ],
      "metadata": {
        "colab": {
          "base_uri": "https://localhost:8080/"
        },
        "id": "eclwfFeBMcwU",
        "outputId": "f2a19d31-4aaa-46d7-8663-344c69b4b437"
      },
      "execution_count": null,
      "outputs": [
        {
          "output_type": "execute_result",
          "data": {
            "text/plain": [
              "(<tf.Tensor: shape=(4, 2), dtype=float32, numpy=\n",
              " array([[-0.7565803 , -0.06854702],\n",
              "        [ 0.07595026, -1.2573844 ],\n",
              "        [-0.23193763, -1.8107855 ],\n",
              "        [ 0.09988727, -0.50998646]], dtype=float32)>,\n",
              " <tf.Tensor: shape=(4, 2), dtype=float32, numpy=\n",
              " array([[-0.7565803 , -0.06854702],\n",
              "        [ 0.07595026, -1.2573844 ],\n",
              "        [-0.23193763, -1.8107855 ],\n",
              "        [ 0.09988727, -0.50998646]], dtype=float32)>,\n",
              " <tf.Tensor: shape=(4, 2), dtype=bool, numpy=\n",
              " array([[ True,  True],\n",
              "        [ True,  True],\n",
              "        [ True,  True],\n",
              "        [ True,  True]])>)"
            ]
          },
          "metadata": {},
          "execution_count": 16
        }
      ]
    },
    {
      "cell_type": "markdown",
      "source": [
        "### Shuffling a Tensor"
      ],
      "metadata": {
        "id": "g1iGEOtEQ2nY"
      }
    },
    {
      "cell_type": "code",
      "source": [
        "not_shuffled = tf.constant([[1,2,3],\n",
        "                            [4,5,6],\n",
        "                            [7,8,9]])\n",
        "not_shuffled"
      ],
      "metadata": {
        "colab": {
          "base_uri": "https://localhost:8080/"
        },
        "id": "d1xJ98RTQ6mM",
        "outputId": "faa5fa4f-1014-46e3-c130-9ecf2c8ea5ef"
      },
      "execution_count": null,
      "outputs": [
        {
          "output_type": "execute_result",
          "data": {
            "text/plain": [
              "<tf.Tensor: shape=(3, 3), dtype=int32, numpy=\n",
              "array([[1, 2, 3],\n",
              "       [4, 5, 6],\n",
              "       [7, 8, 9]], dtype=int32)>"
            ]
          },
          "metadata": {},
          "execution_count": 17
        }
      ]
    },
    {
      "cell_type": "code",
      "source": [
        "not_shuffled.ndim"
      ],
      "metadata": {
        "colab": {
          "base_uri": "https://localhost:8080/"
        },
        "id": "R7mxTJ5ORDe7",
        "outputId": "a87db4ed-9e5e-408a-cfe5-4a20a98c0a6e"
      },
      "execution_count": null,
      "outputs": [
        {
          "output_type": "execute_result",
          "data": {
            "text/plain": [
              "2"
            ]
          },
          "metadata": {},
          "execution_count": 18
        }
      ]
    },
    {
      "cell_type": "code",
      "source": [
        "shuffled = tf.random.shuffle(not_shuffled)\n",
        "shuffled"
      ],
      "metadata": {
        "colab": {
          "base_uri": "https://localhost:8080/"
        },
        "id": "9LuTX449RG3f",
        "outputId": "f725ebf3-83f4-4156-840e-37e9337b7d27"
      },
      "execution_count": null,
      "outputs": [
        {
          "output_type": "execute_result",
          "data": {
            "text/plain": [
              "<tf.Tensor: shape=(3, 3), dtype=int32, numpy=\n",
              "array([[7, 8, 9],\n",
              "       [4, 5, 6],\n",
              "       [1, 2, 3]], dtype=int32)>"
            ]
          },
          "metadata": {},
          "execution_count": 19
        }
      ]
    },
    {
      "cell_type": "code",
      "source": [
        "tf.random.set_seed(7)\n",
        "shuffled = tf.random.shuffle(not_shuffled,seed=7)\n",
        "shuffled"
      ],
      "metadata": {
        "colab": {
          "base_uri": "https://localhost:8080/"
        },
        "id": "pP8724APRiuz",
        "outputId": "07e6b01a-3443-44b9-f16a-af58e34cd451"
      },
      "execution_count": null,
      "outputs": [
        {
          "output_type": "execute_result",
          "data": {
            "text/plain": [
              "<tf.Tensor: shape=(3, 3), dtype=int32, numpy=\n",
              "array([[4, 5, 6],\n",
              "       [1, 2, 3],\n",
              "       [7, 8, 9]], dtype=int32)>"
            ]
          },
          "metadata": {},
          "execution_count": 20
        }
      ]
    },
    {
      "cell_type": "markdown",
      "source": [
        "### More ways to create tensors"
      ],
      "metadata": {
        "id": "2TYzcbZMVg2I"
      }
    },
    {
      "cell_type": "code",
      "source": [
        "zero_tensors = tf.zeros((4,5))\n",
        "zero_tensors"
      ],
      "metadata": {
        "colab": {
          "base_uri": "https://localhost:8080/"
        },
        "id": "4l4CYjUfVkxG",
        "outputId": "91f93789-e8c9-47bf-c94d-fdc96dbf1ed0"
      },
      "execution_count": null,
      "outputs": [
        {
          "output_type": "execute_result",
          "data": {
            "text/plain": [
              "<tf.Tensor: shape=(4, 5), dtype=float32, numpy=\n",
              "array([[0., 0., 0., 0., 0.],\n",
              "       [0., 0., 0., 0., 0.],\n",
              "       [0., 0., 0., 0., 0.],\n",
              "       [0., 0., 0., 0., 0.]], dtype=float32)>"
            ]
          },
          "metadata": {},
          "execution_count": 21
        }
      ]
    },
    {
      "cell_type": "code",
      "source": [
        "one_tensors = tf.ones((5,6))\n",
        "one_tensors"
      ],
      "metadata": {
        "colab": {
          "base_uri": "https://localhost:8080/"
        },
        "id": "2euQwqDpVtAJ",
        "outputId": "1adce95d-abec-4736-894d-52023b9e7b28"
      },
      "execution_count": null,
      "outputs": [
        {
          "output_type": "execute_result",
          "data": {
            "text/plain": [
              "<tf.Tensor: shape=(5, 6), dtype=float32, numpy=\n",
              "array([[1., 1., 1., 1., 1., 1.],\n",
              "       [1., 1., 1., 1., 1., 1.],\n",
              "       [1., 1., 1., 1., 1., 1.],\n",
              "       [1., 1., 1., 1., 1., 1.],\n",
              "       [1., 1., 1., 1., 1., 1.]], dtype=float32)>"
            ]
          },
          "metadata": {},
          "execution_count": 22
        }
      ]
    },
    {
      "cell_type": "markdown",
      "source": [
        "## Turning numpy array into tensors\n",
        "\n",
        "The difference between the numpy array and the tensors is tensor runs much faster than the numpy array on GPU"
      ],
      "metadata": {
        "id": "r7gIMc8rVyxx"
      }
    },
    {
      "cell_type": "code",
      "source": [
        "import numpy as np\n",
        "numpy_a = np.arange(1,49,2)\n",
        "numpy_a"
      ],
      "metadata": {
        "colab": {
          "base_uri": "https://localhost:8080/"
        },
        "id": "oIQ6e3H7V5sB",
        "outputId": "bc3eab65-350e-4049-950e-51718aac07d0"
      },
      "execution_count": null,
      "outputs": [
        {
          "output_type": "execute_result",
          "data": {
            "text/plain": [
              "array([ 1,  3,  5,  7,  9, 11, 13, 15, 17, 19, 21, 23, 25, 27, 29, 31, 33,\n",
              "       35, 37, 39, 41, 43, 45, 47])"
            ]
          },
          "metadata": {},
          "execution_count": 23
        }
      ]
    },
    {
      "cell_type": "code",
      "source": [
        "numpy_to_tensor = tf.constant(numpy_a,shape=(3,2,4))\n",
        "numpy_to_tensor"
      ],
      "metadata": {
        "colab": {
          "base_uri": "https://localhost:8080/"
        },
        "id": "Pc4prB0dWMck",
        "outputId": "87855860-93cb-4ccd-efef-80ec6245bdcc"
      },
      "execution_count": null,
      "outputs": [
        {
          "output_type": "execute_result",
          "data": {
            "text/plain": [
              "<tf.Tensor: shape=(3, 2, 4), dtype=int64, numpy=\n",
              "array([[[ 1,  3,  5,  7],\n",
              "        [ 9, 11, 13, 15]],\n",
              "\n",
              "       [[17, 19, 21, 23],\n",
              "        [25, 27, 29, 31]],\n",
              "\n",
              "       [[33, 35, 37, 39],\n",
              "        [41, 43, 45, 47]]])>"
            ]
          },
          "metadata": {},
          "execution_count": 24
        }
      ]
    },
    {
      "cell_type": "code",
      "source": [
        "init = tf.constant_initializer(3)\n",
        "a = tf.Variable(init(shape=[8,3]))\n",
        "a"
      ],
      "metadata": {
        "colab": {
          "base_uri": "https://localhost:8080/"
        },
        "id": "GPKiJd4BWnWh",
        "outputId": "8727f5b0-38a5-42bc-cde6-1a74990af2b0"
      },
      "execution_count": null,
      "outputs": [
        {
          "output_type": "execute_result",
          "data": {
            "text/plain": [
              "<tf.Variable 'Variable:0' shape=(8, 3) dtype=int32, numpy=\n",
              "array([[3, 3, 3],\n",
              "       [3, 3, 3],\n",
              "       [3, 3, 3],\n",
              "       [3, 3, 3],\n",
              "       [3, 3, 3],\n",
              "       [3, 3, 3],\n",
              "       [3, 3, 3],\n",
              "       [3, 3, 3]], dtype=int32)>"
            ]
          },
          "metadata": {},
          "execution_count": 25
        }
      ]
    },
    {
      "cell_type": "code",
      "source": [
        "unit_matrix = np.eye(4)\n",
        "unit_tensor = tf.constant(unit_matrix,dtype=tf.int32)\n",
        "unit_tensor"
      ],
      "metadata": {
        "colab": {
          "base_uri": "https://localhost:8080/"
        },
        "id": "QTX067n-cTga",
        "outputId": "7a5479bb-30aa-43b4-b2b5-2ed863c73855"
      },
      "execution_count": null,
      "outputs": [
        {
          "output_type": "execute_result",
          "data": {
            "text/plain": [
              "<tf.Tensor: shape=(4, 4), dtype=int32, numpy=\n",
              "array([[1, 0, 0, 0],\n",
              "       [0, 1, 0, 0],\n",
              "       [0, 0, 1, 0],\n",
              "       [0, 0, 0, 1]], dtype=int32)>"
            ]
          },
          "metadata": {},
          "execution_count": 26
        }
      ]
    },
    {
      "cell_type": "code",
      "source": [
        "type(unit_tensor)"
      ],
      "metadata": {
        "colab": {
          "base_uri": "https://localhost:8080/"
        },
        "id": "y2N09hpMdR07",
        "outputId": "b692c764-8442-434d-b61f-0c6b1fcd755b"
      },
      "execution_count": null,
      "outputs": [
        {
          "output_type": "execute_result",
          "data": {
            "text/plain": [
              "tensorflow.python.framework.ops.EagerTensor"
            ]
          },
          "metadata": {},
          "execution_count": 27
        }
      ]
    },
    {
      "cell_type": "markdown",
      "source": [
        "### Getting information from tensors\n",
        "\n",
        "When dealing with the tensor you probably want to be aware of the following attributes:\n",
        "* Shape\n",
        "* Rank\n",
        "* Axis or Dimension\n",
        "* Size"
      ],
      "metadata": {
        "id": "58FtMO4AHSEg"
      }
    },
    {
      "cell_type": "code",
      "source": [
        "rank_4_tensor = tf.ones(shape=[2,3,4,5])\n",
        "rank_4_tensor"
      ],
      "metadata": {
        "colab": {
          "base_uri": "https://localhost:8080/"
        },
        "id": "Rpq-NxuKHXb1",
        "outputId": "b95b390b-6e08-40fa-8e6e-81bae848241d"
      },
      "execution_count": null,
      "outputs": [
        {
          "output_type": "execute_result",
          "data": {
            "text/plain": [
              "<tf.Tensor: shape=(2, 3, 4, 5), dtype=float32, numpy=\n",
              "array([[[[1., 1., 1., 1., 1.],\n",
              "         [1., 1., 1., 1., 1.],\n",
              "         [1., 1., 1., 1., 1.],\n",
              "         [1., 1., 1., 1., 1.]],\n",
              "\n",
              "        [[1., 1., 1., 1., 1.],\n",
              "         [1., 1., 1., 1., 1.],\n",
              "         [1., 1., 1., 1., 1.],\n",
              "         [1., 1., 1., 1., 1.]],\n",
              "\n",
              "        [[1., 1., 1., 1., 1.],\n",
              "         [1., 1., 1., 1., 1.],\n",
              "         [1., 1., 1., 1., 1.],\n",
              "         [1., 1., 1., 1., 1.]]],\n",
              "\n",
              "\n",
              "       [[[1., 1., 1., 1., 1.],\n",
              "         [1., 1., 1., 1., 1.],\n",
              "         [1., 1., 1., 1., 1.],\n",
              "         [1., 1., 1., 1., 1.]],\n",
              "\n",
              "        [[1., 1., 1., 1., 1.],\n",
              "         [1., 1., 1., 1., 1.],\n",
              "         [1., 1., 1., 1., 1.],\n",
              "         [1., 1., 1., 1., 1.]],\n",
              "\n",
              "        [[1., 1., 1., 1., 1.],\n",
              "         [1., 1., 1., 1., 1.],\n",
              "         [1., 1., 1., 1., 1.],\n",
              "         [1., 1., 1., 1., 1.]]]], dtype=float32)>"
            ]
          },
          "metadata": {},
          "execution_count": 28
        }
      ]
    },
    {
      "cell_type": "code",
      "source": [
        "rank_4_tensor.shape , rank_4_tensor.ndim , tf.size(rank_4_tensor)"
      ],
      "metadata": {
        "colab": {
          "base_uri": "https://localhost:8080/"
        },
        "id": "aB9VUFcXIzLr",
        "outputId": "7217302b-c4a0-4366-8acf-1981475a2ae1"
      },
      "execution_count": null,
      "outputs": [
        {
          "output_type": "execute_result",
          "data": {
            "text/plain": [
              "(TensorShape([2, 3, 4, 5]), 4, <tf.Tensor: shape=(), dtype=int32, numpy=120>)"
            ]
          },
          "metadata": {},
          "execution_count": 29
        }
      ]
    },
    {
      "cell_type": "code",
      "source": [
        "print(\"Datatype of every element in Tensor : \",rank_4_tensor.dtype)\n",
        "print(\"Number of dimensions (Rank) : \",rank_4_tensor.ndim)\n",
        "print(\"Shape of Tensor : \",rank_4_tensor.shape)\n",
        "print(\"Elements along axis 0 : \",rank_4_tensor.shape[0])\n",
        "print(\"Elements along last axis : \",rank_4_tensor.shape[-1])\n",
        "print(\"Total elements in the tensor : \",tf.size(rank_4_tensor))\n",
        "print(\"Total elements in the tensor : \",tf.size(rank_4_tensor).numpy())"
      ],
      "metadata": {
        "colab": {
          "base_uri": "https://localhost:8080/"
        },
        "id": "4okvo6UtKa_d",
        "outputId": "f0cbc0e2-799d-41ff-e1af-bd476b8ed5d7"
      },
      "execution_count": null,
      "outputs": [
        {
          "output_type": "stream",
          "name": "stdout",
          "text": [
            "Datatype of every element in Tensor :  <dtype: 'float32'>\n",
            "Number of dimensions (Rank) :  4\n",
            "Shape of Tensor :  (2, 3, 4, 5)\n",
            "Elements along axis 0 :  2\n",
            "Elements along last axis :  5\n",
            "Total elements in the tensor :  tf.Tensor(120, shape=(), dtype=int32)\n",
            "Total elements in the tensor :  120\n"
          ]
        }
      ]
    },
    {
      "cell_type": "markdown",
      "source": [
        "### Indexing Tensors\n",
        "\n",
        "Tensors can be indexed just like python"
      ],
      "metadata": {
        "id": "Atq1uq6HL_Ei"
      }
    },
    {
      "cell_type": "code",
      "source": [
        "rank_4_tensor[0,0,0,0:2]"
      ],
      "metadata": {
        "colab": {
          "base_uri": "https://localhost:8080/"
        },
        "id": "W1ZFqnheMG2K",
        "outputId": "44f5ec91-9476-4ac8-c371-1f51dce3b67f"
      },
      "execution_count": null,
      "outputs": [
        {
          "output_type": "execute_result",
          "data": {
            "text/plain": [
              "<tf.Tensor: shape=(2,), dtype=float32, numpy=array([1., 1.], dtype=float32)>"
            ]
          },
          "metadata": {},
          "execution_count": 33
        }
      ]
    },
    {
      "cell_type": "code",
      "source": [
        "rank_4_tensor[:1,:2,:3,:4]"
      ],
      "metadata": {
        "colab": {
          "base_uri": "https://localhost:8080/"
        },
        "id": "i-sg1ue7PrSX",
        "outputId": "a53986ec-a23a-4288-fc55-9032f518dd2c"
      },
      "execution_count": null,
      "outputs": [
        {
          "output_type": "execute_result",
          "data": {
            "text/plain": [
              "<tf.Tensor: shape=(1, 2, 3, 4), dtype=float32, numpy=\n",
              "array([[[[1., 1., 1., 1.],\n",
              "         [1., 1., 1., 1.],\n",
              "         [1., 1., 1., 1.]],\n",
              "\n",
              "        [[1., 1., 1., 1.],\n",
              "         [1., 1., 1., 1.],\n",
              "         [1., 1., 1., 1.]]]], dtype=float32)>"
            ]
          },
          "metadata": {},
          "execution_count": 34
        }
      ]
    },
    {
      "cell_type": "code",
      "source": [
        "rank_4_tensor[1,1,:,:]"
      ],
      "metadata": {
        "colab": {
          "base_uri": "https://localhost:8080/"
        },
        "id": "FWAwQ4QePud_",
        "outputId": "e0bc6b00-6470-4eb2-df7b-ba268c1f2983"
      },
      "execution_count": null,
      "outputs": [
        {
          "output_type": "execute_result",
          "data": {
            "text/plain": [
              "<tf.Tensor: shape=(4, 5), dtype=float32, numpy=\n",
              "array([[1., 1., 1., 1., 1.],\n",
              "       [1., 1., 1., 1., 1.],\n",
              "       [1., 1., 1., 1., 1.],\n",
              "       [1., 1., 1., 1., 1.]], dtype=float32)>"
            ]
          },
          "metadata": {},
          "execution_count": 35
        }
      ]
    },
    {
      "cell_type": "code",
      "source": [
        "## Creating a rank 2 tensor (2 dimension)\n",
        "rank_2_tensor = tf.ones(shape=[3,5])\n",
        "rank_2_tensor"
      ],
      "metadata": {
        "colab": {
          "base_uri": "https://localhost:8080/"
        },
        "id": "bCLiFpaIP296",
        "outputId": "0bc2b7fa-8592-456a-b428-9e280eeff63d"
      },
      "execution_count": null,
      "outputs": [
        {
          "output_type": "execute_result",
          "data": {
            "text/plain": [
              "<tf.Tensor: shape=(3, 5), dtype=float32, numpy=\n",
              "array([[1., 1., 1., 1., 1.],\n",
              "       [1., 1., 1., 1., 1.],\n",
              "       [1., 1., 1., 1., 1.]], dtype=float32)>"
            ]
          },
          "metadata": {},
          "execution_count": 36
        }
      ]
    },
    {
      "cell_type": "code",
      "source": [
        "rank_3_tensor = rank_2_tensor[...,tf.newaxis]\n",
        "rank_3_tensor"
      ],
      "metadata": {
        "colab": {
          "base_uri": "https://localhost:8080/"
        },
        "id": "JDMjBPq2QObE",
        "outputId": "99a0dfd1-b0b5-42fd-a296-b34f7bce305f"
      },
      "execution_count": null,
      "outputs": [
        {
          "output_type": "execute_result",
          "data": {
            "text/plain": [
              "<tf.Tensor: shape=(3, 5, 1), dtype=float32, numpy=\n",
              "array([[[1.],\n",
              "        [1.],\n",
              "        [1.],\n",
              "        [1.],\n",
              "        [1.]],\n",
              "\n",
              "       [[1.],\n",
              "        [1.],\n",
              "        [1.],\n",
              "        [1.],\n",
              "        [1.]],\n",
              "\n",
              "       [[1.],\n",
              "        [1.],\n",
              "        [1.],\n",
              "        [1.],\n",
              "        [1.]]], dtype=float32)>"
            ]
          },
          "metadata": {},
          "execution_count": 37
        }
      ]
    },
    {
      "cell_type": "code",
      "source": [
        "tf.expand_dims(rank_2_tensor,axis=1)"
      ],
      "metadata": {
        "colab": {
          "base_uri": "https://localhost:8080/"
        },
        "id": "luWsWyTCSK3N",
        "outputId": "0e59b463-ba2d-406f-ec10-cbd14542921a"
      },
      "execution_count": null,
      "outputs": [
        {
          "output_type": "execute_result",
          "data": {
            "text/plain": [
              "<tf.Tensor: shape=(3, 1, 5), dtype=float32, numpy=\n",
              "array([[[1., 1., 1., 1., 1.]],\n",
              "\n",
              "       [[1., 1., 1., 1., 1.]],\n",
              "\n",
              "       [[1., 1., 1., 1., 1.]]], dtype=float32)>"
            ]
          },
          "metadata": {},
          "execution_count": 38
        }
      ]
    },
    {
      "cell_type": "code",
      "source": [
        "tf.expand_dims(rank_2_tensor,axis=-1)"
      ],
      "metadata": {
        "colab": {
          "base_uri": "https://localhost:8080/"
        },
        "id": "SEEwTLqwSaC6",
        "outputId": "e06666ea-4710-45a7-db0b-3655c0d87a5c"
      },
      "execution_count": null,
      "outputs": [
        {
          "output_type": "execute_result",
          "data": {
            "text/plain": [
              "<tf.Tensor: shape=(3, 5, 1), dtype=float32, numpy=\n",
              "array([[[1.],\n",
              "        [1.],\n",
              "        [1.],\n",
              "        [1.],\n",
              "        [1.]],\n",
              "\n",
              "       [[1.],\n",
              "        [1.],\n",
              "        [1.],\n",
              "        [1.],\n",
              "        [1.]],\n",
              "\n",
              "       [[1.],\n",
              "        [1.],\n",
              "        [1.],\n",
              "        [1.],\n",
              "        [1.]]], dtype=float32)>"
            ]
          },
          "metadata": {},
          "execution_count": 39
        }
      ]
    },
    {
      "cell_type": "code",
      "source": [
        "rank_2_tensor"
      ],
      "metadata": {
        "colab": {
          "base_uri": "https://localhost:8080/"
        },
        "id": "9UJi7_XcSf6T",
        "outputId": "f9de5571-bbf3-480e-8fa7-67a097bc0fc6"
      },
      "execution_count": null,
      "outputs": [
        {
          "output_type": "execute_result",
          "data": {
            "text/plain": [
              "<tf.Tensor: shape=(3, 5), dtype=float32, numpy=\n",
              "array([[1., 1., 1., 1., 1.],\n",
              "       [1., 1., 1., 1., 1.],\n",
              "       [1., 1., 1., 1., 1.]], dtype=float32)>"
            ]
          },
          "metadata": {},
          "execution_count": 40
        }
      ]
    },
    {
      "cell_type": "code",
      "source": [
        "tf.reshape(rank_2_tensor,shape=(3,5,1))"
      ],
      "metadata": {
        "colab": {
          "base_uri": "https://localhost:8080/"
        },
        "id": "aPhY3XP1cFbN",
        "outputId": "4b73e033-45af-4a47-fdda-78037f921b79"
      },
      "execution_count": null,
      "outputs": [
        {
          "output_type": "execute_result",
          "data": {
            "text/plain": [
              "<tf.Tensor: shape=(3, 5, 1), dtype=float32, numpy=\n",
              "array([[[1.],\n",
              "        [1.],\n",
              "        [1.],\n",
              "        [1.],\n",
              "        [1.]],\n",
              "\n",
              "       [[1.],\n",
              "        [1.],\n",
              "        [1.],\n",
              "        [1.],\n",
              "        [1.]],\n",
              "\n",
              "       [[1.],\n",
              "        [1.],\n",
              "        [1.],\n",
              "        [1.],\n",
              "        [1.]]], dtype=float32)>"
            ]
          },
          "metadata": {},
          "execution_count": 41
        }
      ]
    },
    {
      "cell_type": "markdown",
      "source": [
        "### Manipulating tensor (Tensor Operations)\n",
        "\n",
        "**Basic Operations :**\n",
        "  `+` `-` `*` `/`"
      ],
      "metadata": {
        "id": "sn72xTfFSxdB"
      }
    },
    {
      "cell_type": "code",
      "source": [
        "tensors = tf.constant([[41,49],[8,9]])\n",
        "tensors"
      ],
      "metadata": {
        "colab": {
          "base_uri": "https://localhost:8080/"
        },
        "id": "6qopLqJxS4Rr",
        "outputId": "49f5fe6b-7827-42d3-9abe-066e983639ba"
      },
      "execution_count": null,
      "outputs": [
        {
          "output_type": "execute_result",
          "data": {
            "text/plain": [
              "<tf.Tensor: shape=(2, 2), dtype=int32, numpy=\n",
              "array([[41, 49],\n",
              "       [ 8,  9]], dtype=int32)>"
            ]
          },
          "metadata": {},
          "execution_count": 42
        }
      ]
    },
    {
      "cell_type": "code",
      "source": [
        "tensors+10"
      ],
      "metadata": {
        "colab": {
          "base_uri": "https://localhost:8080/"
        },
        "id": "2dy4QmYlTkbc",
        "outputId": "84334e6e-9c97-42d4-8c4c-4bba80975563"
      },
      "execution_count": null,
      "outputs": [
        {
          "output_type": "execute_result",
          "data": {
            "text/plain": [
              "<tf.Tensor: shape=(2, 2), dtype=int32, numpy=\n",
              "array([[51, 59],\n",
              "       [18, 19]], dtype=int32)>"
            ]
          },
          "metadata": {},
          "execution_count": 43
        }
      ]
    },
    {
      "cell_type": "code",
      "source": [
        "tensors - 10"
      ],
      "metadata": {
        "colab": {
          "base_uri": "https://localhost:8080/"
        },
        "id": "PKDVSxmDToQE",
        "outputId": "863750bc-7798-4e1d-a9fd-71a2ac432868"
      },
      "execution_count": null,
      "outputs": [
        {
          "output_type": "execute_result",
          "data": {
            "text/plain": [
              "<tf.Tensor: shape=(2, 2), dtype=int32, numpy=\n",
              "array([[31, 39],\n",
              "       [-2, -1]], dtype=int32)>"
            ]
          },
          "metadata": {},
          "execution_count": 44
        }
      ]
    },
    {
      "cell_type": "code",
      "source": [
        "tensors * 10"
      ],
      "metadata": {
        "colab": {
          "base_uri": "https://localhost:8080/"
        },
        "id": "uVCABb01TrT7",
        "outputId": "e7472e49-4d38-4409-c6f7-dc5f06ec9a75"
      },
      "execution_count": null,
      "outputs": [
        {
          "output_type": "execute_result",
          "data": {
            "text/plain": [
              "<tf.Tensor: shape=(2, 2), dtype=int32, numpy=\n",
              "array([[410, 490],\n",
              "       [ 80,  90]], dtype=int32)>"
            ]
          },
          "metadata": {},
          "execution_count": 45
        }
      ]
    },
    {
      "cell_type": "code",
      "source": [
        "tensors/10"
      ],
      "metadata": {
        "colab": {
          "base_uri": "https://localhost:8080/"
        },
        "id": "7xTPk9tmTtkP",
        "outputId": "c591edb2-d604-41be-e891-9d4f69b0a535"
      },
      "execution_count": null,
      "outputs": [
        {
          "output_type": "execute_result",
          "data": {
            "text/plain": [
              "<tf.Tensor: shape=(2, 2), dtype=float64, numpy=\n",
              "array([[4.1, 4.9],\n",
              "       [0.8, 0.9]])>"
            ]
          },
          "metadata": {},
          "execution_count": 46
        }
      ]
    },
    {
      "cell_type": "code",
      "source": [
        "# Using TensorFlow in-build functions\n",
        "tf.multiply(tensors,20)"
      ],
      "metadata": {
        "colab": {
          "base_uri": "https://localhost:8080/"
        },
        "id": "DKY6MahnUh7-",
        "outputId": "15a2d3c3-6320-4aa6-c04c-2c876f48052c"
      },
      "execution_count": null,
      "outputs": [
        {
          "output_type": "execute_result",
          "data": {
            "text/plain": [
              "<tf.Tensor: shape=(2, 2), dtype=int32, numpy=\n",
              "array([[820, 980],\n",
              "       [160, 180]], dtype=int32)>"
            ]
          },
          "metadata": {},
          "execution_count": 47
        }
      ]
    },
    {
      "cell_type": "code",
      "source": [
        "tf.add(tensors,40)"
      ],
      "metadata": {
        "colab": {
          "base_uri": "https://localhost:8080/"
        },
        "id": "z-cIK8c3UuhQ",
        "outputId": "e530a6b5-4c40-4393-c113-201769785e91"
      },
      "execution_count": null,
      "outputs": [
        {
          "output_type": "execute_result",
          "data": {
            "text/plain": [
              "<tf.Tensor: shape=(2, 2), dtype=int32, numpy=\n",
              "array([[81, 89],\n",
              "       [48, 49]], dtype=int32)>"
            ]
          },
          "metadata": {},
          "execution_count": 48
        }
      ]
    },
    {
      "cell_type": "code",
      "source": [
        "tf.subtract(tensors,10)"
      ],
      "metadata": {
        "colab": {
          "base_uri": "https://localhost:8080/"
        },
        "id": "Sn8-e8eBU2nS",
        "outputId": "78b90566-667e-4869-d292-fb279da078a6"
      },
      "execution_count": null,
      "outputs": [
        {
          "output_type": "execute_result",
          "data": {
            "text/plain": [
              "<tf.Tensor: shape=(2, 2), dtype=int32, numpy=\n",
              "array([[31, 39],\n",
              "       [-2, -1]], dtype=int32)>"
            ]
          },
          "metadata": {},
          "execution_count": 49
        }
      ]
    },
    {
      "cell_type": "code",
      "source": [
        "tf.divide(tensors,2)"
      ],
      "metadata": {
        "colab": {
          "base_uri": "https://localhost:8080/"
        },
        "id": "woX6sDuIU7a6",
        "outputId": "a418d963-fdcc-4ecd-ffa3-2cba97add915"
      },
      "execution_count": null,
      "outputs": [
        {
          "output_type": "execute_result",
          "data": {
            "text/plain": [
              "<tf.Tensor: shape=(2, 2), dtype=float64, numpy=\n",
              "array([[20.5, 24.5],\n",
              "       [ 4. ,  4.5]])>"
            ]
          },
          "metadata": {},
          "execution_count": 50
        }
      ]
    },
    {
      "cell_type": "markdown",
      "source": [
        "**Matrix Multiplication**\n",
        "\n",
        "In Machine Learning, matrix multiplication is one of the common basic tensor operation"
      ],
      "metadata": {
        "id": "juiIZUZSVAPN"
      }
    },
    {
      "cell_type": "code",
      "source": [
        "tf.matmul(tensors,tensors)"
      ],
      "metadata": {
        "colab": {
          "base_uri": "https://localhost:8080/"
        },
        "id": "K7XoiuExVFTO",
        "outputId": "2b553fb8-8d5b-42ce-82db-2bfd3f8b9703"
      },
      "execution_count": null,
      "outputs": [
        {
          "output_type": "execute_result",
          "data": {
            "text/plain": [
              "<tf.Tensor: shape=(2, 2), dtype=int32, numpy=\n",
              "array([[2073, 2450],\n",
              "       [ 400,  473]], dtype=int32)>"
            ]
          },
          "metadata": {},
          "execution_count": 51
        }
      ]
    },
    {
      "cell_type": "code",
      "source": [
        "a = tf.constant([[1,2,5],\n",
        "                 [7,2,1],\n",
        "                 [3,3,3]])\n",
        "b = tf.constant([[3,5],\n",
        "                 [6,7],\n",
        "                 [1,8]])"
      ],
      "metadata": {
        "id": "DlGZJrPsZBik"
      },
      "execution_count": null,
      "outputs": []
    },
    {
      "cell_type": "code",
      "source": [
        "tf.matmul(a,b)"
      ],
      "metadata": {
        "colab": {
          "base_uri": "https://localhost:8080/"
        },
        "id": "ZrxvUAlYZ5wT",
        "outputId": "389d021f-78a8-4414-e1f0-d678a131c587"
      },
      "execution_count": null,
      "outputs": [
        {
          "output_type": "execute_result",
          "data": {
            "text/plain": [
              "<tf.Tensor: shape=(3, 2), dtype=int32, numpy=\n",
              "array([[20, 59],\n",
              "       [34, 57],\n",
              "       [30, 60]], dtype=int32)>"
            ]
          },
          "metadata": {},
          "execution_count": 53
        }
      ]
    },
    {
      "cell_type": "code",
      "source": [
        "# The matrix multiplication in python we use @\n",
        "a @ b"
      ],
      "metadata": {
        "colab": {
          "base_uri": "https://localhost:8080/"
        },
        "id": "Ff65Uyr2Z79L",
        "outputId": "4b553198-6f83-484c-9df8-43517b31859c"
      },
      "execution_count": null,
      "outputs": [
        {
          "output_type": "execute_result",
          "data": {
            "text/plain": [
              "<tf.Tensor: shape=(3, 2), dtype=int32, numpy=\n",
              "array([[20, 59],\n",
              "       [34, 57],\n",
              "       [30, 60]], dtype=int32)>"
            ]
          },
          "metadata": {},
          "execution_count": 54
        }
      ]
    },
    {
      "cell_type": "code",
      "source": [
        "A = tf.constant([[1,2],\n",
        "                 [7,2],\n",
        "                 [3,3]])\n",
        "B = tf.constant([[3,5],\n",
        "                 [6,7],\n",
        "                 [1,8]])"
      ],
      "metadata": {
        "id": "Ju6JRDu8aLvD"
      },
      "execution_count": null,
      "outputs": []
    },
    {
      "cell_type": "code",
      "source": [
        "A @ B"
      ],
      "metadata": {
        "colab": {
          "base_uri": "https://localhost:8080/",
          "height": 304
        },
        "id": "UNnxxPXjaO1B",
        "outputId": "7df113a7-034d-4d8a-e887-ea41cd60410e"
      },
      "execution_count": null,
      "outputs": [
        {
          "output_type": "error",
          "ename": "InvalidArgumentError",
          "evalue": "{{function_node __wrapped__MatMul_device_/job:localhost/replica:0/task:0/device:CPU:0}} Matrix size-incompatible: In[0]: [3,2], In[1]: [3,2] [Op:MatMul] name: ",
          "traceback": [
            "\u001b[0;31m---------------------------------------------------------------------------\u001b[0m",
            "\u001b[0;31mInvalidArgumentError\u001b[0m                      Traceback (most recent call last)",
            "\u001b[0;32m<ipython-input-56-455d622f3b50>\u001b[0m in \u001b[0;36m<cell line: 1>\u001b[0;34m()\u001b[0m\n\u001b[0;32m----> 1\u001b[0;31m \u001b[0mA\u001b[0m \u001b[0;34m@\u001b[0m \u001b[0mB\u001b[0m\u001b[0;34m\u001b[0m\u001b[0;34m\u001b[0m\u001b[0m\n\u001b[0m",
            "\u001b[0;32m/usr/local/lib/python3.10/dist-packages/tensorflow/python/util/traceback_utils.py\u001b[0m in \u001b[0;36merror_handler\u001b[0;34m(*args, **kwargs)\u001b[0m\n\u001b[1;32m    151\u001b[0m     \u001b[0;32mexcept\u001b[0m \u001b[0mException\u001b[0m \u001b[0;32mas\u001b[0m \u001b[0me\u001b[0m\u001b[0;34m:\u001b[0m\u001b[0;34m\u001b[0m\u001b[0;34m\u001b[0m\u001b[0m\n\u001b[1;32m    152\u001b[0m       \u001b[0mfiltered_tb\u001b[0m \u001b[0;34m=\u001b[0m \u001b[0m_process_traceback_frames\u001b[0m\u001b[0;34m(\u001b[0m\u001b[0me\u001b[0m\u001b[0;34m.\u001b[0m\u001b[0m__traceback__\u001b[0m\u001b[0;34m)\u001b[0m\u001b[0;34m\u001b[0m\u001b[0;34m\u001b[0m\u001b[0m\n\u001b[0;32m--> 153\u001b[0;31m       \u001b[0;32mraise\u001b[0m \u001b[0me\u001b[0m\u001b[0;34m.\u001b[0m\u001b[0mwith_traceback\u001b[0m\u001b[0;34m(\u001b[0m\u001b[0mfiltered_tb\u001b[0m\u001b[0;34m)\u001b[0m \u001b[0;32mfrom\u001b[0m \u001b[0;32mNone\u001b[0m\u001b[0;34m\u001b[0m\u001b[0;34m\u001b[0m\u001b[0m\n\u001b[0m\u001b[1;32m    154\u001b[0m     \u001b[0;32mfinally\u001b[0m\u001b[0;34m:\u001b[0m\u001b[0;34m\u001b[0m\u001b[0;34m\u001b[0m\u001b[0m\n\u001b[1;32m    155\u001b[0m       \u001b[0;32mdel\u001b[0m \u001b[0mfiltered_tb\u001b[0m\u001b[0;34m\u001b[0m\u001b[0;34m\u001b[0m\u001b[0m\n",
            "\u001b[0;32m/usr/local/lib/python3.10/dist-packages/tensorflow/python/framework/ops.py\u001b[0m in \u001b[0;36mraise_from_not_ok_status\u001b[0;34m(e, name)\u001b[0m\n\u001b[1;32m   5881\u001b[0m \u001b[0;32mdef\u001b[0m \u001b[0mraise_from_not_ok_status\u001b[0m\u001b[0;34m(\u001b[0m\u001b[0me\u001b[0m\u001b[0;34m,\u001b[0m \u001b[0mname\u001b[0m\u001b[0;34m)\u001b[0m \u001b[0;34m->\u001b[0m \u001b[0mNoReturn\u001b[0m\u001b[0;34m:\u001b[0m\u001b[0;34m\u001b[0m\u001b[0;34m\u001b[0m\u001b[0m\n\u001b[1;32m   5882\u001b[0m   \u001b[0me\u001b[0m\u001b[0;34m.\u001b[0m\u001b[0mmessage\u001b[0m \u001b[0;34m+=\u001b[0m \u001b[0;34m(\u001b[0m\u001b[0;34m\" name: \"\u001b[0m \u001b[0;34m+\u001b[0m \u001b[0mstr\u001b[0m\u001b[0;34m(\u001b[0m\u001b[0mname\u001b[0m \u001b[0;32mif\u001b[0m \u001b[0mname\u001b[0m \u001b[0;32mis\u001b[0m \u001b[0;32mnot\u001b[0m \u001b[0;32mNone\u001b[0m \u001b[0;32melse\u001b[0m \u001b[0;34m\"\"\u001b[0m\u001b[0;34m)\u001b[0m\u001b[0;34m)\u001b[0m\u001b[0;34m\u001b[0m\u001b[0;34m\u001b[0m\u001b[0m\n\u001b[0;32m-> 5883\u001b[0;31m   \u001b[0;32mraise\u001b[0m \u001b[0mcore\u001b[0m\u001b[0;34m.\u001b[0m\u001b[0m_status_to_exception\u001b[0m\u001b[0;34m(\u001b[0m\u001b[0me\u001b[0m\u001b[0;34m)\u001b[0m \u001b[0;32mfrom\u001b[0m \u001b[0;32mNone\u001b[0m  \u001b[0;31m# pylint: disable=protected-access\u001b[0m\u001b[0;34m\u001b[0m\u001b[0;34m\u001b[0m\u001b[0m\n\u001b[0m\u001b[1;32m   5884\u001b[0m \u001b[0;34m\u001b[0m\u001b[0m\n\u001b[1;32m   5885\u001b[0m \u001b[0;34m\u001b[0m\u001b[0m\n",
            "\u001b[0;31mInvalidArgumentError\u001b[0m: {{function_node __wrapped__MatMul_device_/job:localhost/replica:0/task:0/device:CPU:0}} Matrix size-incompatible: In[0]: [3,2], In[1]: [3,2] [Op:MatMul] name: "
          ]
        }
      ]
    },
    {
      "cell_type": "code",
      "source": [
        "# Transpose\n",
        "A,tf.transpose(A), tf.reshape(A,shape=(2,3))"
      ],
      "metadata": {
        "colab": {
          "base_uri": "https://localhost:8080/"
        },
        "id": "-0uqZwCKaSFg",
        "outputId": "2d5dca0b-1323-4f99-df73-eaac7d38a46f"
      },
      "execution_count": null,
      "outputs": [
        {
          "output_type": "execute_result",
          "data": {
            "text/plain": [
              "(<tf.Tensor: shape=(3, 2), dtype=int32, numpy=\n",
              " array([[1, 2],\n",
              "        [7, 2],\n",
              "        [3, 3]], dtype=int32)>,\n",
              " <tf.Tensor: shape=(2, 3), dtype=int32, numpy=\n",
              " array([[1, 7, 3],\n",
              "        [2, 2, 3]], dtype=int32)>,\n",
              " <tf.Tensor: shape=(2, 3), dtype=int32, numpy=\n",
              " array([[1, 2, 7],\n",
              "        [2, 3, 3]], dtype=int32)>)"
            ]
          },
          "metadata": {},
          "execution_count": 57
        }
      ]
    },
    {
      "cell_type": "code",
      "source": [
        "tf.matmul(A,tf.transpose(A))"
      ],
      "metadata": {
        "colab": {
          "base_uri": "https://localhost:8080/"
        },
        "id": "kK68Ge7fdT1L",
        "outputId": "a2284afc-dbd3-478c-9c38-d4519cc95e32"
      },
      "execution_count": null,
      "outputs": [
        {
          "output_type": "execute_result",
          "data": {
            "text/plain": [
              "<tf.Tensor: shape=(3, 3), dtype=int32, numpy=\n",
              "array([[ 5, 11,  9],\n",
              "       [11, 53, 27],\n",
              "       [ 9, 27, 18]], dtype=int32)>"
            ]
          },
          "metadata": {},
          "execution_count": 58
        }
      ]
    },
    {
      "cell_type": "markdown",
      "source": [
        "**Dot Product**\n",
        "\n",
        "The matrix multiplication also referred as the dot product\n",
        "\n",
        "The matrix multiplication can be done :\n",
        "* `tf.matmul()`\n",
        "* `tf.tensordot()`"
      ],
      "metadata": {
        "id": "VDHIZ2KjeV3j"
      }
    },
    {
      "cell_type": "code",
      "source": [
        "tf.tensordot(A,tf.transpose(A),axes=1)"
      ],
      "metadata": {
        "colab": {
          "base_uri": "https://localhost:8080/"
        },
        "id": "ga4rkYV1eqGo",
        "outputId": "2e0f1f25-b001-4745-b2f2-83a45f4b0d91"
      },
      "execution_count": null,
      "outputs": [
        {
          "output_type": "execute_result",
          "data": {
            "text/plain": [
              "<tf.Tensor: shape=(3, 3), dtype=int32, numpy=\n",
              "array([[ 5, 11,  9],\n",
              "       [11, 53, 27],\n",
              "       [ 9, 27, 18]], dtype=int32)>"
            ]
          },
          "metadata": {},
          "execution_count": 59
        }
      ]
    },
    {
      "cell_type": "code",
      "source": [
        "A"
      ],
      "metadata": {
        "colab": {
          "base_uri": "https://localhost:8080/"
        },
        "id": "vOJ9MXdcfI2K",
        "outputId": "d420295c-0f14-4ee1-c2b5-a2ff7107aa5d"
      },
      "execution_count": null,
      "outputs": [
        {
          "output_type": "execute_result",
          "data": {
            "text/plain": [
              "<tf.Tensor: shape=(3, 2), dtype=int32, numpy=\n",
              "array([[1, 2],\n",
              "       [7, 2],\n",
              "       [3, 3]], dtype=int32)>"
            ]
          },
          "metadata": {},
          "execution_count": 60
        }
      ]
    },
    {
      "cell_type": "code",
      "source": [
        "tf.tensordot(A,tf.transpose(A),axes=0)"
      ],
      "metadata": {
        "colab": {
          "base_uri": "https://localhost:8080/"
        },
        "id": "Qgd3FnOmfElV",
        "outputId": "1ff3e0d4-6a0a-46d9-a358-706a632eaa20"
      },
      "execution_count": null,
      "outputs": [
        {
          "output_type": "execute_result",
          "data": {
            "text/plain": [
              "<tf.Tensor: shape=(3, 2, 2, 3), dtype=int32, numpy=\n",
              "array([[[[ 1,  7,  3],\n",
              "         [ 2,  2,  3]],\n",
              "\n",
              "        [[ 2, 14,  6],\n",
              "         [ 4,  4,  6]]],\n",
              "\n",
              "\n",
              "       [[[ 7, 49, 21],\n",
              "         [14, 14, 21]],\n",
              "\n",
              "        [[ 2, 14,  6],\n",
              "         [ 4,  4,  6]]],\n",
              "\n",
              "\n",
              "       [[[ 3, 21,  9],\n",
              "         [ 6,  6,  9]],\n",
              "\n",
              "        [[ 3, 21,  9],\n",
              "         [ 6,  6,  9]]]], dtype=int32)>"
            ]
          },
          "metadata": {},
          "execution_count": 61
        }
      ]
    },
    {
      "cell_type": "markdown",
      "source": [
        "### Changing the datatype of the tensors"
      ],
      "metadata": {
        "id": "Qc5dAvPQbS_T"
      }
    },
    {
      "cell_type": "code",
      "source": [
        "# Create a tensor of datatype float32\n",
        "P = tf.constant([1.4,3.14])\n",
        "P, P.dtype"
      ],
      "metadata": {
        "colab": {
          "base_uri": "https://localhost:8080/"
        },
        "id": "aI3Fr06pbyRJ",
        "outputId": "6f6c8323-17ae-49bc-817d-cd65ddb8d4ae"
      },
      "execution_count": null,
      "outputs": [
        {
          "output_type": "execute_result",
          "data": {
            "text/plain": [
              "(<tf.Tensor: shape=(2,), dtype=float32, numpy=array([1.4 , 3.14], dtype=float32)>,\n",
              " tf.float32)"
            ]
          },
          "metadata": {},
          "execution_count": 70
        }
      ]
    },
    {
      "cell_type": "code",
      "source": [
        "# Now lets change the dtype of tensor above to int32\n",
        "D = tf.cast(P, dtype=tf.int32)\n",
        "D, D.dtype"
      ],
      "metadata": {
        "colab": {
          "base_uri": "https://localhost:8080/"
        },
        "id": "SISgv0bGdQuT",
        "outputId": "3a68bfa1-85c4-4290-ee9c-b8434fb7a45e"
      },
      "execution_count": null,
      "outputs": [
        {
          "output_type": "execute_result",
          "data": {
            "text/plain": [
              "(<tf.Tensor: shape=(2,), dtype=int32, numpy=array([1, 3], dtype=int32)>,\n",
              " tf.int32)"
            ]
          },
          "metadata": {},
          "execution_count": 71
        }
      ]
    },
    {
      "cell_type": "code",
      "source": [
        "S = tf.cast(P, dtype=tf.float16)\n",
        "S , S.dtype"
      ],
      "metadata": {
        "colab": {
          "base_uri": "https://localhost:8080/"
        },
        "id": "TmEmzUj5dfwn",
        "outputId": "a21246d8-5a8e-4839-c1db-37874bafab31"
      },
      "execution_count": null,
      "outputs": [
        {
          "output_type": "execute_result",
          "data": {
            "text/plain": [
              "(<tf.Tensor: shape=(2,), dtype=float16, numpy=array([1.4 , 3.14], dtype=float16)>,\n",
              " tf.float16)"
            ]
          },
          "metadata": {},
          "execution_count": 72
        }
      ]
    },
    {
      "cell_type": "markdown",
      "source": [
        "### Tensor Aggregation"
      ],
      "metadata": {
        "id": "H5PiKY9fdmW1"
      }
    },
    {
      "cell_type": "code",
      "source": [
        "R = tf.constant(np.random.randint(1,100,[41]))\n",
        "R"
      ],
      "metadata": {
        "colab": {
          "base_uri": "https://localhost:8080/"
        },
        "id": "PrBdR3szd0hJ",
        "outputId": "8c69571b-6a4c-47d1-8fec-b7c72437c2c3"
      },
      "execution_count": null,
      "outputs": [
        {
          "output_type": "execute_result",
          "data": {
            "text/plain": [
              "<tf.Tensor: shape=(41,), dtype=int64, numpy=\n",
              "array([34, 42, 12, 33, 47, 21, 66, 93, 35, 52, 65, 28, 85, 65, 77, 55, 65,\n",
              "       90, 41, 87, 93, 21, 43, 93, 52,  8, 58, 85, 49, 30, 90, 31, 99, 56,\n",
              "       47,  2, 65, 56, 56, 25, 88])>"
            ]
          },
          "metadata": {},
          "execution_count": 73
        }
      ]
    },
    {
      "cell_type": "code",
      "source": [
        "# Find the minimum value\n",
        "tf.reduce_min(R)"
      ],
      "metadata": {
        "colab": {
          "base_uri": "https://localhost:8080/"
        },
        "id": "eE66KjhYg2tz",
        "outputId": "4304a4cc-55dd-441d-a284-d5368170a0f1"
      },
      "execution_count": null,
      "outputs": [
        {
          "output_type": "execute_result",
          "data": {
            "text/plain": [
              "<tf.Tensor: shape=(), dtype=int64, numpy=2>"
            ]
          },
          "metadata": {},
          "execution_count": 74
        }
      ]
    },
    {
      "cell_type": "code",
      "source": [
        "# Find the maximum value\n",
        "tf.reduce_max(R)"
      ],
      "metadata": {
        "colab": {
          "base_uri": "https://localhost:8080/"
        },
        "id": "IG99aM9ng8c4",
        "outputId": "54e7d706-bae4-47d0-e198-9e30298e1395"
      },
      "execution_count": null,
      "outputs": [
        {
          "output_type": "execute_result",
          "data": {
            "text/plain": [
              "<tf.Tensor: shape=(), dtype=int64, numpy=99>"
            ]
          },
          "metadata": {},
          "execution_count": 75
        }
      ]
    },
    {
      "cell_type": "code",
      "source": [
        "# Mean of the tensor\n",
        "tf.reduce_mean(R)"
      ],
      "metadata": {
        "colab": {
          "base_uri": "https://localhost:8080/"
        },
        "id": "v0Mh6DWfhAya",
        "outputId": "1c073cfb-bcea-4a3f-aea4-b08991baf384"
      },
      "execution_count": null,
      "outputs": [
        {
          "output_type": "execute_result",
          "data": {
            "text/plain": [
              "<tf.Tensor: shape=(), dtype=int64, numpy=54>"
            ]
          },
          "metadata": {},
          "execution_count": 76
        }
      ]
    },
    {
      "cell_type": "code",
      "source": [
        "tf.reduce_sum(R)"
      ],
      "metadata": {
        "colab": {
          "base_uri": "https://localhost:8080/"
        },
        "id": "uXnZnsIBhYVs",
        "outputId": "2a1cd8f6-cf16-4f61-db5a-fcb9da04aedd"
      },
      "execution_count": null,
      "outputs": [
        {
          "output_type": "execute_result",
          "data": {
            "text/plain": [
              "<tf.Tensor: shape=(), dtype=int64, numpy=2240>"
            ]
          },
          "metadata": {},
          "execution_count": 77
        }
      ]
    },
    {
      "cell_type": "code",
      "source": [
        "tf.reduce_sum(R)/41"
      ],
      "metadata": {
        "colab": {
          "base_uri": "https://localhost:8080/"
        },
        "id": "F2jEE2Bwhbjr",
        "outputId": "03bb4356-a64e-46cf-ce7a-225b816333b7"
      },
      "execution_count": null,
      "outputs": [
        {
          "output_type": "execute_result",
          "data": {
            "text/plain": [
              "<tf.Tensor: shape=(), dtype=float64, numpy=54.63414634146341>"
            ]
          },
          "metadata": {},
          "execution_count": 79
        }
      ]
    },
    {
      "cell_type": "code",
      "source": [
        "NegativeTensor = tf.constant([-1.23,-3.14,-4.59])\n",
        "tf.abs(NegativeTensor)"
      ],
      "metadata": {
        "colab": {
          "base_uri": "https://localhost:8080/"
        },
        "id": "awgBkSxYhjnH",
        "outputId": "721414e1-87b3-49ad-f0aa-f0b25f3db11c"
      },
      "execution_count": null,
      "outputs": [
        {
          "output_type": "execute_result",
          "data": {
            "text/plain": [
              "<tf.Tensor: shape=(3,), dtype=float32, numpy=array([1.23, 3.14, 4.59], dtype=float32)>"
            ]
          },
          "metadata": {},
          "execution_count": 81
        }
      ]
    },
    {
      "cell_type": "code",
      "source": [
        "# Variance\n",
        "X = tf.cast(R,dtype=tf.float32)\n",
        "X"
      ],
      "metadata": {
        "colab": {
          "base_uri": "https://localhost:8080/"
        },
        "id": "xjVORhMYhr53",
        "outputId": "8e592e48-fd30-44e7-eb11-9fd406750176"
      },
      "execution_count": null,
      "outputs": [
        {
          "output_type": "execute_result",
          "data": {
            "text/plain": [
              "<tf.Tensor: shape=(41,), dtype=float32, numpy=\n",
              "array([34., 42., 12., 33., 47., 21., 66., 93., 35., 52., 65., 28., 85.,\n",
              "       65., 77., 55., 65., 90., 41., 87., 93., 21., 43., 93., 52.,  8.,\n",
              "       58., 85., 49., 30., 90., 31., 99., 56., 47.,  2., 65., 56., 56.,\n",
              "       25., 88.], dtype=float32)>"
            ]
          },
          "metadata": {},
          "execution_count": 90
        }
      ]
    },
    {
      "cell_type": "code",
      "source": [
        "tf.math.reduce_std(X)"
      ],
      "metadata": {
        "colab": {
          "base_uri": "https://localhost:8080/"
        },
        "id": "CnG7idBdiFrz",
        "outputId": "a2a175c9-7d15-4b6a-93a7-01a60b6847bf"
      },
      "execution_count": null,
      "outputs": [
        {
          "output_type": "execute_result",
          "data": {
            "text/plain": [
              "<tf.Tensor: shape=(), dtype=float32, numpy=25.977245>"
            ]
          },
          "metadata": {},
          "execution_count": 91
        }
      ]
    },
    {
      "cell_type": "code",
      "source": [
        "tf.math.reduce_variance(X)"
      ],
      "metadata": {
        "colab": {
          "base_uri": "https://localhost:8080/"
        },
        "id": "Vo-ZCLnIjGYz",
        "outputId": "9e92301b-78d7-4253-e242-ef71beeacc1b"
      },
      "execution_count": null,
      "outputs": [
        {
          "output_type": "execute_result",
          "data": {
            "text/plain": [
              "<tf.Tensor: shape=(), dtype=float32, numpy=674.8173>"
            ]
          },
          "metadata": {},
          "execution_count": 92
        }
      ]
    },
    {
      "cell_type": "code",
      "source": [
        "# The above one is from math now we use the tensorflowprobability\n",
        "import tensorflow_probability as tfp\n",
        "tfp.stats.variance(R)"
      ],
      "metadata": {
        "colab": {
          "base_uri": "https://localhost:8080/"
        },
        "id": "dn2TK4vLjL0n",
        "outputId": "cef199c1-ab9d-4428-eae6-0bd7abafe743"
      },
      "execution_count": null,
      "outputs": [
        {
          "output_type": "execute_result",
          "data": {
            "text/plain": [
              "<tf.Tensor: shape=(), dtype=int64, numpy=675>"
            ]
          },
          "metadata": {},
          "execution_count": 95
        }
      ]
    },
    {
      "cell_type": "code",
      "source": [
        "tfp.stats.stddev(X)"
      ],
      "metadata": {
        "colab": {
          "base_uri": "https://localhost:8080/"
        },
        "id": "JPp2Ydl6j-In",
        "outputId": "d36e0ff9-a8dc-42d1-bb28-49fdb9b872b6"
      },
      "execution_count": null,
      "outputs": [
        {
          "output_type": "execute_result",
          "data": {
            "text/plain": [
              "<tf.Tensor: shape=(), dtype=float32, numpy=25.977245>"
            ]
          },
          "metadata": {},
          "execution_count": 97
        }
      ]
    },
    {
      "cell_type": "markdown",
      "source": [
        "### Finding the positional maximum and minimum"
      ],
      "metadata": {
        "id": "zJE6DOhWlnIk"
      }
    },
    {
      "cell_type": "code",
      "source": [
        "Tensor = tf.random.uniform(shape=(2,25))\n",
        "Tensor"
      ],
      "metadata": {
        "colab": {
          "base_uri": "https://localhost:8080/"
        },
        "id": "Hvwx2YtWlr6J",
        "outputId": "0beb66e8-cc13-4562-cbe7-7068915bea79"
      },
      "execution_count": null,
      "outputs": [
        {
          "output_type": "execute_result",
          "data": {
            "text/plain": [
              "<tf.Tensor: shape=(2, 25), dtype=float32, numpy=\n",
              "array([[0.01905346, 0.6496551 , 0.6962069 , 0.5500748 , 0.58857775,\n",
              "        0.24705338, 0.3295344 , 0.1120199 , 0.6467608 , 0.01355374,\n",
              "        0.7299129 , 0.03882682, 0.23880851, 0.49790883, 0.85397625,\n",
              "        0.69668555, 0.5923586 , 0.24508905, 0.31688094, 0.6731936 ,\n",
              "        0.52317286, 0.02140117, 0.3216492 , 0.5990864 , 0.7901585 ],\n",
              "       [0.26609623, 0.28422046, 0.6192452 , 0.990942  , 0.10392416,\n",
              "        0.64259124, 0.11628079, 0.73734283, 0.2591883 , 0.01932311,\n",
              "        0.530177  , 0.14395463, 0.6720898 , 0.3558743 , 0.73685   ,\n",
              "        0.16844022, 0.5795028 , 0.78861153, 0.25849175, 0.5669795 ,\n",
              "        0.25481176, 0.12750673, 0.3559773 , 0.81974554, 0.8130735 ]],\n",
              "      dtype=float32)>"
            ]
          },
          "metadata": {},
          "execution_count": 100
        }
      ]
    },
    {
      "cell_type": "code",
      "source": [
        "tf.argmax(Tensor[0])"
      ],
      "metadata": {
        "colab": {
          "base_uri": "https://localhost:8080/"
        },
        "id": "Y3Jls0ZcnvvH",
        "outputId": "e3906e36-1826-4476-b79a-7835dd3fae0e"
      },
      "execution_count": null,
      "outputs": [
        {
          "output_type": "execute_result",
          "data": {
            "text/plain": [
              "<tf.Tensor: shape=(), dtype=int64, numpy=14>"
            ]
          },
          "metadata": {},
          "execution_count": 104
        }
      ]
    },
    {
      "cell_type": "code",
      "source": [
        "Tensor[0,tf.argmax(Tensor[0])]"
      ],
      "metadata": {
        "colab": {
          "base_uri": "https://localhost:8080/"
        },
        "id": "fux36QnYoEQU",
        "outputId": "c44ca51f-9f65-48ba-f07d-d687fecfdd5e"
      },
      "execution_count": null,
      "outputs": [
        {
          "output_type": "execute_result",
          "data": {
            "text/plain": [
              "<tf.Tensor: shape=(), dtype=float32, numpy=0.85397625>"
            ]
          },
          "metadata": {},
          "execution_count": 108
        }
      ]
    },
    {
      "cell_type": "code",
      "source": [
        "Tensor[1,tf.argmax(Tensor[1])]"
      ],
      "metadata": {
        "colab": {
          "base_uri": "https://localhost:8080/"
        },
        "id": "wXsH4U08oKLi",
        "outputId": "7c94ad52-e2e5-4e81-f2ec-9f16e4543038"
      },
      "execution_count": null,
      "outputs": [
        {
          "output_type": "execute_result",
          "data": {
            "text/plain": [
              "<tf.Tensor: shape=(), dtype=float32, numpy=0.990942>"
            ]
          },
          "metadata": {},
          "execution_count": 110
        }
      ]
    },
    {
      "cell_type": "code",
      "source": [
        "Tensor[0,tf.argmin(Tensor[0])]"
      ],
      "metadata": {
        "colab": {
          "base_uri": "https://localhost:8080/"
        },
        "id": "QXg2KKy_oaQV",
        "outputId": "dbe93bcd-ca91-40a0-d7e5-0b95f09be591"
      },
      "execution_count": null,
      "outputs": [
        {
          "output_type": "execute_result",
          "data": {
            "text/plain": [
              "<tf.Tensor: shape=(), dtype=float32, numpy=0.013553739>"
            ]
          },
          "metadata": {},
          "execution_count": 111
        }
      ]
    },
    {
      "cell_type": "code",
      "source": [
        "Tensor[1,tf.argmin(Tensor[1])]"
      ],
      "metadata": {
        "colab": {
          "base_uri": "https://localhost:8080/"
        },
        "id": "DmDDd2blogBg",
        "outputId": "fe423dae-df5d-448d-d239-43992d42744c"
      },
      "execution_count": null,
      "outputs": [
        {
          "output_type": "execute_result",
          "data": {
            "text/plain": [
              "<tf.Tensor: shape=(), dtype=float32, numpy=0.01932311>"
            ]
          },
          "metadata": {},
          "execution_count": 112
        }
      ]
    },
    {
      "cell_type": "markdown",
      "source": [
        "### Squeezing Tensor (Removing all single dimensions)"
      ],
      "metadata": {
        "id": "ocmuJRiKojty"
      }
    },
    {
      "cell_type": "code",
      "source": [
        "tf.random.set_seed(42)\n",
        "L = tf.constant(tf.random.uniform(shape=[82]),shape=(2,1,41))\n",
        "L"
      ],
      "metadata": {
        "colab": {
          "base_uri": "https://localhost:8080/"
        },
        "id": "OsgYbRPspjoq",
        "outputId": "e911b2e1-78cb-44b0-a6d7-eda5c4b06261"
      },
      "execution_count": null,
      "outputs": [
        {
          "output_type": "execute_result",
          "data": {
            "text/plain": [
              "<tf.Tensor: shape=(2, 1, 41), dtype=float32, numpy=\n",
              "array([[[0.6645621 , 0.44100678, 0.3528825 , 0.46448255, 0.03366041,\n",
              "         0.68467236, 0.74011743, 0.8724445 , 0.22632635, 0.22319686,\n",
              "         0.3103881 , 0.7223358 , 0.13318717, 0.5480639 , 0.5746088 ,\n",
              "         0.8996835 , 0.00946367, 0.5212307 , 0.6345445 , 0.1993283 ,\n",
              "         0.72942245, 0.54583454, 0.10756552, 0.6767061 , 0.6602763 ,\n",
              "         0.33695042, 0.60141766, 0.21062577, 0.8527372 , 0.44062173,\n",
              "         0.9485276 , 0.23752594, 0.81179297, 0.5263394 , 0.494308  ,\n",
              "         0.21612847, 0.8457197 , 0.8718841 , 0.3083862 , 0.6868038 ,\n",
              "         0.23764038]],\n",
              "\n",
              "       [[0.7817228 , 0.9671384 , 0.06870162, 0.79873943, 0.66028714,\n",
              "         0.5871513 , 0.16461694, 0.7381023 , 0.32054043, 0.6073899 ,\n",
              "         0.46523476, 0.97803545, 0.7223145 , 0.32347047, 0.82577336,\n",
              "         0.4976915 , 0.19483674, 0.7588748 , 0.3380444 , 0.28128064,\n",
              "         0.31513572, 0.60670924, 0.7498598 , 0.5016055 , 0.18282163,\n",
              "         0.13179815, 0.64636123, 0.9559475 , 0.6670735 , 0.30755532,\n",
              "         0.36892188, 0.44735897, 0.18359458, 0.5288255 , 0.7052754 ,\n",
              "         0.898633  , 0.31386292, 0.62338257, 0.96815526, 0.11207926,\n",
              "         0.29590535]]], dtype=float32)>"
            ]
          },
          "metadata": {},
          "execution_count": 119
        }
      ]
    },
    {
      "cell_type": "code",
      "source": [
        "L_squeeze = tf.squeeze(L)\n",
        "L_squeeze"
      ],
      "metadata": {
        "colab": {
          "base_uri": "https://localhost:8080/"
        },
        "id": "fx2S3C7tqeY1",
        "outputId": "3a88b14e-d160-48d7-e5e7-ef98f8ee40f2"
      },
      "execution_count": null,
      "outputs": [
        {
          "output_type": "execute_result",
          "data": {
            "text/plain": [
              "<tf.Tensor: shape=(2, 41), dtype=float32, numpy=\n",
              "array([[0.6645621 , 0.44100678, 0.3528825 , 0.46448255, 0.03366041,\n",
              "        0.68467236, 0.74011743, 0.8724445 , 0.22632635, 0.22319686,\n",
              "        0.3103881 , 0.7223358 , 0.13318717, 0.5480639 , 0.5746088 ,\n",
              "        0.8996835 , 0.00946367, 0.5212307 , 0.6345445 , 0.1993283 ,\n",
              "        0.72942245, 0.54583454, 0.10756552, 0.6767061 , 0.6602763 ,\n",
              "        0.33695042, 0.60141766, 0.21062577, 0.8527372 , 0.44062173,\n",
              "        0.9485276 , 0.23752594, 0.81179297, 0.5263394 , 0.494308  ,\n",
              "        0.21612847, 0.8457197 , 0.8718841 , 0.3083862 , 0.6868038 ,\n",
              "        0.23764038],\n",
              "       [0.7817228 , 0.9671384 , 0.06870162, 0.79873943, 0.66028714,\n",
              "        0.5871513 , 0.16461694, 0.7381023 , 0.32054043, 0.6073899 ,\n",
              "        0.46523476, 0.97803545, 0.7223145 , 0.32347047, 0.82577336,\n",
              "        0.4976915 , 0.19483674, 0.7588748 , 0.3380444 , 0.28128064,\n",
              "        0.31513572, 0.60670924, 0.7498598 , 0.5016055 , 0.18282163,\n",
              "        0.13179815, 0.64636123, 0.9559475 , 0.6670735 , 0.30755532,\n",
              "        0.36892188, 0.44735897, 0.18359458, 0.5288255 , 0.7052754 ,\n",
              "        0.898633  , 0.31386292, 0.62338257, 0.96815526, 0.11207926,\n",
              "        0.29590535]], dtype=float32)>"
            ]
          },
          "metadata": {},
          "execution_count": 120
        }
      ]
    },
    {
      "cell_type": "code",
      "source": [
        "B = tf.constant(tf.random.uniform(shape=[100]),shape=[1,1,1,1,1,1,1,1,1,1,2,50])\n",
        "B"
      ],
      "metadata": {
        "colab": {
          "base_uri": "https://localhost:8080/"
        },
        "id": "XCO02mxUqsVa",
        "outputId": "bdb5b810-eda3-47a6-db51-9f2656a3386d"
      },
      "execution_count": null,
      "outputs": [
        {
          "output_type": "execute_result",
          "data": {
            "text/plain": [
              "<tf.Tensor: shape=(1, 1, 1, 1, 1, 1, 1, 1, 1, 1, 2, 50), dtype=float32, numpy=\n",
              "array([[[[[[[[[[[[0.7413678 , 0.62854624, 0.01738465,\n",
              "                  0.3431449 , 0.51063764, 0.3777541 ,\n",
              "                  0.07321596, 0.02137029, 0.2871771 ,\n",
              "                  0.4710616 , 0.6936141 , 0.07321334,\n",
              "                  0.93251204, 0.20843053, 0.70105827,\n",
              "                  0.45856392, 0.8596262 , 0.92934334,\n",
              "                  0.20291913, 0.76865506, 0.60016024,\n",
              "                  0.27039742, 0.88180614, 0.05365038,\n",
              "                  0.42274463, 0.89037776, 0.7887033 ,\n",
              "                  0.10165584, 0.19408834, 0.27896714,\n",
              "                  0.39512634, 0.12235212, 0.38412368,\n",
              "                  0.9455296 , 0.77594674, 0.94442344,\n",
              "                  0.04296565, 0.4746096 , 0.6548251 ,\n",
              "                  0.5657116 , 0.13858628, 0.3004663 ,\n",
              "                  0.3311677 , 0.12907016, 0.6435652 ,\n",
              "                  0.45473957, 0.68881893, 0.30203617,\n",
              "                  0.49152803, 0.26529062],\n",
              "                 [0.7122741 , 0.72297084, 0.18866003,\n",
              "                  0.24155617, 0.8013923 , 0.9717448 ,\n",
              "                  0.704507  , 0.28954244, 0.5491171 ,\n",
              "                  0.05062342, 0.1928184 , 0.4541731 ,\n",
              "                  0.21889174, 0.87243795, 0.56308484,\n",
              "                  0.316792  , 0.68497694, 0.39252186,\n",
              "                  0.7106304 , 0.7038053 , 0.71630967,\n",
              "                  0.8375633 , 0.9909723 , 0.94025004,\n",
              "                  0.21663237, 0.7143645 , 0.539435  ,\n",
              "                  0.5229018 , 0.3451408 , 0.969429  ,\n",
              "                  0.9890361 , 0.31063735, 0.9489944 ,\n",
              "                  0.59065425, 0.5401238 , 0.26383626,\n",
              "                  0.49390125, 0.51443005, 0.69443834,\n",
              "                  0.37080622, 0.51013005, 0.91926074,\n",
              "                  0.20885623, 0.4022926 , 0.26109898,\n",
              "                  0.91494703, 0.87439096, 0.16771638,\n",
              "                  0.6596291 , 0.8011217 ]]]]]]]]]]]], dtype=float32)>"
            ]
          },
          "metadata": {},
          "execution_count": 122
        }
      ]
    },
    {
      "cell_type": "code",
      "source": [
        "B_squeeze = tf.squeeze(B)\n",
        "B_squeeze"
      ],
      "metadata": {
        "colab": {
          "base_uri": "https://localhost:8080/"
        },
        "id": "h2Ra_cglq8yg",
        "outputId": "983d2e29-26de-4d70-c2cc-362bd3cc8e0b"
      },
      "execution_count": null,
      "outputs": [
        {
          "output_type": "execute_result",
          "data": {
            "text/plain": [
              "<tf.Tensor: shape=(2, 50), dtype=float32, numpy=\n",
              "array([[0.7413678 , 0.62854624, 0.01738465, 0.3431449 , 0.51063764,\n",
              "        0.3777541 , 0.07321596, 0.02137029, 0.2871771 , 0.4710616 ,\n",
              "        0.6936141 , 0.07321334, 0.93251204, 0.20843053, 0.70105827,\n",
              "        0.45856392, 0.8596262 , 0.92934334, 0.20291913, 0.76865506,\n",
              "        0.60016024, 0.27039742, 0.88180614, 0.05365038, 0.42274463,\n",
              "        0.89037776, 0.7887033 , 0.10165584, 0.19408834, 0.27896714,\n",
              "        0.39512634, 0.12235212, 0.38412368, 0.9455296 , 0.77594674,\n",
              "        0.94442344, 0.04296565, 0.4746096 , 0.6548251 , 0.5657116 ,\n",
              "        0.13858628, 0.3004663 , 0.3311677 , 0.12907016, 0.6435652 ,\n",
              "        0.45473957, 0.68881893, 0.30203617, 0.49152803, 0.26529062],\n",
              "       [0.7122741 , 0.72297084, 0.18866003, 0.24155617, 0.8013923 ,\n",
              "        0.9717448 , 0.704507  , 0.28954244, 0.5491171 , 0.05062342,\n",
              "        0.1928184 , 0.4541731 , 0.21889174, 0.87243795, 0.56308484,\n",
              "        0.316792  , 0.68497694, 0.39252186, 0.7106304 , 0.7038053 ,\n",
              "        0.71630967, 0.8375633 , 0.9909723 , 0.94025004, 0.21663237,\n",
              "        0.7143645 , 0.539435  , 0.5229018 , 0.3451408 , 0.969429  ,\n",
              "        0.9890361 , 0.31063735, 0.9489944 , 0.59065425, 0.5401238 ,\n",
              "        0.26383626, 0.49390125, 0.51443005, 0.69443834, 0.37080622,\n",
              "        0.51013005, 0.91926074, 0.20885623, 0.4022926 , 0.26109898,\n",
              "        0.91494703, 0.87439096, 0.16771638, 0.6596291 , 0.8011217 ]],\n",
              "      dtype=float32)>"
            ]
          },
          "metadata": {},
          "execution_count": 123
        }
      ]
    },
    {
      "cell_type": "markdown",
      "source": [
        "### One-Hot Encoding Tensor"
      ],
      "metadata": {
        "id": "e01HEPLIrGNn"
      }
    },
    {
      "cell_type": "code",
      "source": [
        "Lisa = [\"Cherry\",\"Oranges\",\"Melons\",\"Banana\"]\n",
        "x = [0,1,2,3]\n",
        "tf.one_hot(x,depth=4)"
      ],
      "metadata": {
        "colab": {
          "base_uri": "https://localhost:8080/"
        },
        "id": "Yy1y8jCNsjaw",
        "outputId": "a4161020-2164-4efe-c516-b8d2fdbe2704"
      },
      "execution_count": null,
      "outputs": [
        {
          "output_type": "execute_result",
          "data": {
            "text/plain": [
              "<tf.Tensor: shape=(4, 4), dtype=float32, numpy=\n",
              "array([[1., 0., 0., 0.],\n",
              "       [0., 1., 0., 0.],\n",
              "       [0., 0., 1., 0.],\n",
              "       [0., 0., 0., 1.]], dtype=float32)>"
            ]
          },
          "metadata": {},
          "execution_count": 128
        }
      ]
    },
    {
      "cell_type": "code",
      "source": [
        "# Custom values for the one-hot encoding\n",
        "tf.one_hot(x,depth=4,off_value=\"RCB\",on_value=\"IND\")"
      ],
      "metadata": {
        "colab": {
          "base_uri": "https://localhost:8080/"
        },
        "id": "BUAcovXms4RQ",
        "outputId": "5234d258-f115-4d7e-bc31-b14d84b3b217"
      },
      "execution_count": null,
      "outputs": [
        {
          "output_type": "execute_result",
          "data": {
            "text/plain": [
              "<tf.Tensor: shape=(4, 4), dtype=string, numpy=\n",
              "array([[b'IND', b'RCB', b'RCB', b'RCB'],\n",
              "       [b'RCB', b'IND', b'RCB', b'RCB'],\n",
              "       [b'RCB', b'RCB', b'IND', b'RCB'],\n",
              "       [b'RCB', b'RCB', b'RCB', b'IND']], dtype=object)>"
            ]
          },
          "metadata": {},
          "execution_count": 132
        }
      ]
    },
    {
      "cell_type": "markdown",
      "source": [
        "### Squaring , Logrithms , Square Root"
      ],
      "metadata": {
        "id": "A-DX-wmntBJL"
      }
    },
    {
      "cell_type": "code",
      "source": [
        "# Create a new tensor\n",
        "H = tf.range(1,10)\n",
        "H"
      ],
      "metadata": {
        "colab": {
          "base_uri": "https://localhost:8080/"
        },
        "id": "3PQ6X3D9vR8c",
        "outputId": "93166bab-1026-4b8a-d9eb-ba2a88ce305e"
      },
      "execution_count": null,
      "outputs": [
        {
          "output_type": "execute_result",
          "data": {
            "text/plain": [
              "<tf.Tensor: shape=(9,), dtype=int32, numpy=array([1, 2, 3, 4, 5, 6, 7, 8, 9], dtype=int32)>"
            ]
          },
          "metadata": {},
          "execution_count": 134
        }
      ]
    },
    {
      "cell_type": "code",
      "source": [
        "tf.square(H)"
      ],
      "metadata": {
        "colab": {
          "base_uri": "https://localhost:8080/"
        },
        "id": "Vy_uuFN-vaKW",
        "outputId": "f4a9f40a-2528-4c4b-846c-ea8bcb3edea3"
      },
      "execution_count": null,
      "outputs": [
        {
          "output_type": "execute_result",
          "data": {
            "text/plain": [
              "<tf.Tensor: shape=(9,), dtype=int32, numpy=array([ 1,  4,  9, 16, 25, 36, 49, 64, 81], dtype=int32)>"
            ]
          },
          "metadata": {},
          "execution_count": 136
        }
      ]
    },
    {
      "cell_type": "code",
      "source": [
        "tf.sqrt(tf.cast(H,dtype=tf.float32))"
      ],
      "metadata": {
        "colab": {
          "base_uri": "https://localhost:8080/"
        },
        "id": "7-3ObdPYvcSJ",
        "outputId": "d5292e91-0c12-4c9c-9a23-595117dd3c55"
      },
      "execution_count": null,
      "outputs": [
        {
          "output_type": "execute_result",
          "data": {
            "text/plain": [
              "<tf.Tensor: shape=(9,), dtype=float32, numpy=\n",
              "array([1.       , 1.4142135, 1.7320508, 2.       , 2.236068 , 2.4494898,\n",
              "       2.6457512, 2.828427 , 3.       ], dtype=float32)>"
            ]
          },
          "metadata": {},
          "execution_count": 139
        }
      ]
    },
    {
      "cell_type": "code",
      "source": [
        "tf.math.log(tf.cast(H,dtype=tf.double))"
      ],
      "metadata": {
        "colab": {
          "base_uri": "https://localhost:8080/"
        },
        "id": "v5wh8w8vvzVq",
        "outputId": "91ca0eb0-9136-44a2-d4f3-56abae6f66f2"
      },
      "execution_count": null,
      "outputs": [
        {
          "output_type": "execute_result",
          "data": {
            "text/plain": [
              "<tf.Tensor: shape=(9,), dtype=float64, numpy=\n",
              "array([0.        , 0.69314718, 1.09861229, 1.38629436, 1.60943791,\n",
              "       1.79175947, 1.94591015, 2.07944154, 2.19722458])>"
            ]
          },
          "metadata": {},
          "execution_count": 142
        }
      ]
    },
    {
      "cell_type": "markdown",
      "source": [
        "### Tensors and Numpy\n",
        "\n",
        "TensorFlow interacts with numpy esay. So we can convert the tensor to numpy and numpy to tensor."
      ],
      "metadata": {
        "id": "4HO6qPHjviUq"
      }
    },
    {
      "cell_type": "code",
      "source": [
        "K = tf.constant(np.arange(0,100),shape=[2,50])\n",
        "K , type(K)"
      ],
      "metadata": {
        "colab": {
          "base_uri": "https://localhost:8080/"
        },
        "id": "v-Ij3IdOwU7c",
        "outputId": "f8586ddc-f30d-4a0a-dcdb-97174715eede"
      },
      "execution_count": null,
      "outputs": [
        {
          "output_type": "execute_result",
          "data": {
            "text/plain": [
              "(<tf.Tensor: shape=(2, 50), dtype=int64, numpy=\n",
              " array([[ 0,  1,  2,  3,  4,  5,  6,  7,  8,  9, 10, 11, 12, 13, 14, 15,\n",
              "         16, 17, 18, 19, 20, 21, 22, 23, 24, 25, 26, 27, 28, 29, 30, 31,\n",
              "         32, 33, 34, 35, 36, 37, 38, 39, 40, 41, 42, 43, 44, 45, 46, 47,\n",
              "         48, 49],\n",
              "        [50, 51, 52, 53, 54, 55, 56, 57, 58, 59, 60, 61, 62, 63, 64, 65,\n",
              "         66, 67, 68, 69, 70, 71, 72, 73, 74, 75, 76, 77, 78, 79, 80, 81,\n",
              "         82, 83, 84, 85, 86, 87, 88, 89, 90, 91, 92, 93, 94, 95, 96, 97,\n",
              "         98, 99]])>,\n",
              " tensorflow.python.framework.ops.EagerTensor)"
            ]
          },
          "metadata": {},
          "execution_count": 147
        }
      ]
    },
    {
      "cell_type": "code",
      "source": [
        "np.array(K) , type(np.array(K))"
      ],
      "metadata": {
        "colab": {
          "base_uri": "https://localhost:8080/"
        },
        "id": "Sq-QFhdMw-al",
        "outputId": "605fb4d8-73a3-45f5-9eb8-b96ae8c638e4"
      },
      "execution_count": null,
      "outputs": [
        {
          "output_type": "execute_result",
          "data": {
            "text/plain": [
              "(array([[ 0,  1,  2,  3,  4,  5,  6,  7,  8,  9, 10, 11, 12, 13, 14, 15,\n",
              "         16, 17, 18, 19, 20, 21, 22, 23, 24, 25, 26, 27, 28, 29, 30, 31,\n",
              "         32, 33, 34, 35, 36, 37, 38, 39, 40, 41, 42, 43, 44, 45, 46, 47,\n",
              "         48, 49],\n",
              "        [50, 51, 52, 53, 54, 55, 56, 57, 58, 59, 60, 61, 62, 63, 64, 65,\n",
              "         66, 67, 68, 69, 70, 71, 72, 73, 74, 75, 76, 77, 78, 79, 80, 81,\n",
              "         82, 83, 84, 85, 86, 87, 88, 89, 90, 91, 92, 93, 94, 95, 96, 97,\n",
              "         98, 99]]),\n",
              " numpy.ndarray)"
            ]
          },
          "metadata": {},
          "execution_count": 148
        }
      ]
    },
    {
      "cell_type": "code",
      "source": [
        "K.numpy() , type(K.numpy())"
      ],
      "metadata": {
        "colab": {
          "base_uri": "https://localhost:8080/"
        },
        "id": "If6aY6M0xVpu",
        "outputId": "544cff2b-e4f0-4bce-f334-0dd2be9bb8c5"
      },
      "execution_count": null,
      "outputs": [
        {
          "output_type": "execute_result",
          "data": {
            "text/plain": [
              "(array([[ 0,  1,  2,  3,  4,  5,  6,  7,  8,  9, 10, 11, 12, 13, 14, 15,\n",
              "         16, 17, 18, 19, 20, 21, 22, 23, 24, 25, 26, 27, 28, 29, 30, 31,\n",
              "         32, 33, 34, 35, 36, 37, 38, 39, 40, 41, 42, 43, 44, 45, 46, 47,\n",
              "         48, 49],\n",
              "        [50, 51, 52, 53, 54, 55, 56, 57, 58, 59, 60, 61, 62, 63, 64, 65,\n",
              "         66, 67, 68, 69, 70, 71, 72, 73, 74, 75, 76, 77, 78, 79, 80, 81,\n",
              "         82, 83, 84, 85, 86, 87, 88, 89, 90, 91, 92, 93, 94, 95, 96, 97,\n",
              "         98, 99]]),\n",
              " numpy.ndarray)"
            ]
          },
          "metadata": {},
          "execution_count": 150
        }
      ]
    },
    {
      "cell_type": "code",
      "source": [
        "S = tf.constant([2,3,4],dtype=tf.float32)\n",
        "S.numpy()[2]"
      ],
      "metadata": {
        "colab": {
          "base_uri": "https://localhost:8080/"
        },
        "id": "w7eLRvGhxf5q",
        "outputId": "fe79d969-3e98-4cfd-aac2-46176bab16fc"
      },
      "execution_count": null,
      "outputs": [
        {
          "output_type": "execute_result",
          "data": {
            "text/plain": [
              "4.0"
            ]
          },
          "metadata": {},
          "execution_count": 151
        }
      ]
    },
    {
      "cell_type": "code",
      "source": [
        "Numpy_tensor = tf.constant(np.array([3.,2.,4.]))\n",
        "Tensor_tensor = tf.constant([2.,3.,4.])\n",
        "Numpy_tensor.dtype , Tensor_tensor.dtype"
      ],
      "metadata": {
        "colab": {
          "base_uri": "https://localhost:8080/"
        },
        "id": "0vbYumO1zaGP",
        "outputId": "b79c2f2d-f878-49db-f30b-9fd2a4f5a1ef"
      },
      "execution_count": null,
      "outputs": [
        {
          "output_type": "execute_result",
          "data": {
            "text/plain": [
              "(tf.float64, tf.float32)"
            ]
          },
          "metadata": {},
          "execution_count": 153
        }
      ]
    },
    {
      "cell_type": "markdown",
      "source": [
        "### Finding access to GPUs"
      ],
      "metadata": {
        "id": "d0_91ykszrwG"
      }
    },
    {
      "cell_type": "code",
      "source": [
        "import tensorflow as tf\n",
        "import numpy as np\n",
        "tf.config.list_physical_devices(\"GPU\")"
      ],
      "metadata": {
        "colab": {
          "base_uri": "https://localhost:8080/"
        },
        "id": "Zc_ASI6C59o2",
        "outputId": "26785051-5b6e-4947-c236-0e481e3e5e53"
      },
      "execution_count": null,
      "outputs": [
        {
          "output_type": "execute_result",
          "data": {
            "text/plain": [
              "[PhysicalDevice(name='/physical_device:GPU:0', device_type='GPU')]"
            ]
          },
          "metadata": {},
          "execution_count": 2
        }
      ]
    },
    {
      "cell_type": "code",
      "source": [
        "!nvidia-smi"
      ],
      "metadata": {
        "colab": {
          "base_uri": "https://localhost:8080/"
        },
        "id": "Yul6CYRr7uf6",
        "outputId": "44db8f36-cfef-4c53-a98d-9a61d6b36269"
      },
      "execution_count": null,
      "outputs": [
        {
          "output_type": "stream",
          "name": "stdout",
          "text": [
            "Thu Mar 28 16:40:23 2024       \n",
            "+---------------------------------------------------------------------------------------+\n",
            "| NVIDIA-SMI 535.104.05             Driver Version: 535.104.05   CUDA Version: 12.2     |\n",
            "|-----------------------------------------+----------------------+----------------------+\n",
            "| GPU  Name                 Persistence-M | Bus-Id        Disp.A | Volatile Uncorr. ECC |\n",
            "| Fan  Temp   Perf          Pwr:Usage/Cap |         Memory-Usage | GPU-Util  Compute M. |\n",
            "|                                         |                      |               MIG M. |\n",
            "|=========================================+======================+======================|\n",
            "|   0  Tesla T4                       Off | 00000000:00:04.0 Off |                    0 |\n",
            "| N/A   49C    P8              12W /  70W |      3MiB / 15360MiB |      0%      Default |\n",
            "|                                         |                      |                  N/A |\n",
            "+-----------------------------------------+----------------------+----------------------+\n",
            "                                                                                         \n",
            "+---------------------------------------------------------------------------------------+\n",
            "| Processes:                                                                            |\n",
            "|  GPU   GI   CI        PID   Type   Process name                            GPU Memory |\n",
            "|        ID   ID                                                             Usage      |\n",
            "|=======================================================================================|\n",
            "|  No running processes found                                                           |\n",
            "+---------------------------------------------------------------------------------------+\n"
          ]
        }
      ]
    },
    {
      "cell_type": "markdown",
      "source": [
        "# Exercises"
      ],
      "metadata": {
        "id": "2P89XT2I7xHi"
      }
    },
    {
      "cell_type": "markdown",
      "source": [
        "###Create a vector, scalar, matrix and tensor with values of your choosing using `tf.constant()`"
      ],
      "metadata": {
        "id": "2l_f6ubB9DY0"
      }
    },
    {
      "cell_type": "code",
      "source": [
        "Tensor_Scalar = tf.constant(4)\n",
        "Tensor_vector = tf.constant([1,2,3])\n",
        "Tensor_Matrix = tf.constant([[41,2113,24],\n",
        "                             [34,56,79]])\n",
        "Tensor = tf.constant(np.arange(1,101),shape=(2,2,25))\n",
        "Tensor_vector , Tensor_Scalar , Tensor_Matrix , Tensor"
      ],
      "metadata": {
        "colab": {
          "base_uri": "https://localhost:8080/"
        },
        "id": "bITbTTnS9K0Q",
        "outputId": "d29cad59-33f1-4fd6-8648-5f84f54ac87b"
      },
      "execution_count": null,
      "outputs": [
        {
          "output_type": "execute_result",
          "data": {
            "text/plain": [
              "(<tf.Tensor: shape=(3,), dtype=int32, numpy=array([1, 2, 3], dtype=int32)>,\n",
              " <tf.Tensor: shape=(), dtype=int32, numpy=4>,\n",
              " <tf.Tensor: shape=(2, 3), dtype=int32, numpy=\n",
              " array([[  41, 2113,   24],\n",
              "        [  34,   56,   79]], dtype=int32)>,\n",
              " <tf.Tensor: shape=(2, 2, 25), dtype=int64, numpy=\n",
              " array([[[  1,   2,   3,   4,   5,   6,   7,   8,   9,  10,  11,  12,\n",
              "           13,  14,  15,  16,  17,  18,  19,  20,  21,  22,  23,  24,\n",
              "           25],\n",
              "         [ 26,  27,  28,  29,  30,  31,  32,  33,  34,  35,  36,  37,\n",
              "           38,  39,  40,  41,  42,  43,  44,  45,  46,  47,  48,  49,\n",
              "           50]],\n",
              " \n",
              "        [[ 51,  52,  53,  54,  55,  56,  57,  58,  59,  60,  61,  62,\n",
              "           63,  64,  65,  66,  67,  68,  69,  70,  71,  72,  73,  74,\n",
              "           75],\n",
              "         [ 76,  77,  78,  79,  80,  81,  82,  83,  84,  85,  86,  87,\n",
              "           88,  89,  90,  91,  92,  93,  94,  95,  96,  97,  98,  99,\n",
              "          100]]])>)"
            ]
          },
          "metadata": {},
          "execution_count": 10
        }
      ]
    },
    {
      "cell_type": "code",
      "source": [
        "Tensor.shape , Tensor.ndim , tf.size(Tensor)"
      ],
      "metadata": {
        "colab": {
          "base_uri": "https://localhost:8080/"
        },
        "id": "WDsWSWwL90sv",
        "outputId": "ce8a5250-f13f-4623-921f-9f670b5cb252"
      },
      "execution_count": null,
      "outputs": [
        {
          "output_type": "execute_result",
          "data": {
            "text/plain": [
              "(TensorShape([2, 2, 25]), 3, <tf.Tensor: shape=(), dtype=int32, numpy=100>)"
            ]
          },
          "metadata": {},
          "execution_count": 12
        }
      ]
    },
    {
      "cell_type": "code",
      "source": [
        "X = tf.random.uniform(shape=[5,300],minval=0,maxval=1)\n",
        "X"
      ],
      "metadata": {
        "colab": {
          "base_uri": "https://localhost:8080/"
        },
        "id": "KOAzOuOm97ur",
        "outputId": "f57f96e5-6bb0-4f54-ae29-d3822d3b7c3c"
      },
      "execution_count": null,
      "outputs": [
        {
          "output_type": "execute_result",
          "data": {
            "text/plain": [
              "<tf.Tensor: shape=(5, 300), dtype=float32, numpy=\n",
              "array([[0.01372194, 0.62107086, 0.5302913 , ..., 0.85487866, 0.5186467 ,\n",
              "        0.45049763],\n",
              "       [0.7070073 , 0.7664859 , 0.9652598 , ..., 0.92014945, 0.4082259 ,\n",
              "        0.5325539 ],\n",
              "       [0.92108345, 0.27768826, 0.25916362, ..., 0.54308224, 0.6476598 ,\n",
              "        0.6035868 ],\n",
              "       [0.29539728, 0.42853034, 0.66463935, ..., 0.54650855, 0.77416074,\n",
              "        0.46840215],\n",
              "       [0.582423  , 0.04162669, 0.32957506, ..., 0.00368547, 0.3223896 ,\n",
              "        0.82975125]], dtype=float32)>"
            ]
          },
          "metadata": {},
          "execution_count": 24
        }
      ]
    },
    {
      "cell_type": "code",
      "source": [
        "tf.matmul(X,tf.transpose(X))"
      ],
      "metadata": {
        "colab": {
          "base_uri": "https://localhost:8080/"
        },
        "id": "rZMHaNOs-0kC",
        "outputId": "f13c2704-8253-4bf4-9fd8-11e47c509a46"
      },
      "execution_count": null,
      "outputs": [
        {
          "output_type": "execute_result",
          "data": {
            "text/plain": [
              "<tf.Tensor: shape=(5, 5), dtype=float32, numpy=\n",
              "array([[104.62802 ,  71.895874,  76.50393 ,  77.93488 ,  76.75569 ],\n",
              "       [ 71.895874,  95.42788 ,  73.02023 ,  72.46736 ,  76.010895],\n",
              "       [ 76.50393 ,  73.02023 , 102.24156 ,  73.974144,  75.66153 ],\n",
              "       [ 77.93488 ,  72.46736 ,  73.974144, 103.61095 ,  77.26959 ],\n",
              "       [ 76.75569 ,  76.010895,  75.66153 ,  77.26959 ,  99.94704 ]],\n",
              "      dtype=float32)>"
            ]
          },
          "metadata": {},
          "execution_count": 22
        }
      ]
    },
    {
      "cell_type": "code",
      "source": [
        "X * X"
      ],
      "metadata": {
        "colab": {
          "base_uri": "https://localhost:8080/"
        },
        "id": "Q8hopwSi_Baw",
        "outputId": "8b2e1b80-57d6-439f-d839-5159e823e1c2"
      },
      "execution_count": null,
      "outputs": [
        {
          "output_type": "execute_result",
          "data": {
            "text/plain": [
              "<tf.Tensor: shape=(5, 300), dtype=float32, numpy=\n",
              "array([[3.3685267e-01, 1.7685206e-01, 8.0533624e-01, ..., 1.3449298e-01,\n",
              "        2.5805976e-02, 3.3772278e-01],\n",
              "       [1.8666431e-03, 1.3406880e-01, 5.2267402e-02, ..., 3.0910155e-02,\n",
              "        9.7927976e-01, 3.4625668e-02],\n",
              "       [1.4416457e-02, 5.0857019e-01, 9.3313590e-02, ..., 5.4110732e-02,\n",
              "        4.5353182e-02, 8.9530736e-02],\n",
              "       [7.4482298e-01, 5.8036745e-01, 6.0847676e-01, ..., 4.5028201e-04,\n",
              "        7.7476406e-01, 2.7529476e-03],\n",
              "       [1.5350485e-02, 2.9023814e-01, 6.3614774e-01, ..., 3.7173784e-01,\n",
              "        7.9037342e-03, 6.9815107e-02]], dtype=float32)>"
            ]
          },
          "metadata": {},
          "execution_count": 23
        }
      ]
    },
    {
      "cell_type": "code",
      "source": [
        "Z = tf.random.uniform(shape=[225,224,3],minval=0,maxval=1)"
      ],
      "metadata": {
        "id": "bTYLpuLT_MaC"
      },
      "execution_count": null,
      "outputs": []
    },
    {
      "cell_type": "code",
      "source": [
        "tf.argmax(Z[0,0])"
      ],
      "metadata": {
        "colab": {
          "base_uri": "https://localhost:8080/"
        },
        "id": "tZjSWbQ2_1sk",
        "outputId": "ec7fc933-c74b-4312-e764-91a8c1a3e68d"
      },
      "execution_count": null,
      "outputs": [
        {
          "output_type": "execute_result",
          "data": {
            "text/plain": [
              "<tf.Tensor: shape=(), dtype=int64, numpy=1>"
            ]
          },
          "metadata": {},
          "execution_count": 19
        }
      ]
    },
    {
      "cell_type": "code",
      "source": [
        "tf.argmax(Z[0,0])"
      ],
      "metadata": {
        "colab": {
          "base_uri": "https://localhost:8080/"
        },
        "id": "mrYNhNypJIvy",
        "outputId": "0130dd80-3c90-4813-d979-ee02b3a7542a"
      },
      "execution_count": null,
      "outputs": [
        {
          "output_type": "execute_result",
          "data": {
            "text/plain": [
              "<tf.Tensor: shape=(), dtype=int64, numpy=1>"
            ]
          },
          "metadata": {},
          "execution_count": 23
        }
      ]
    },
    {
      "cell_type": "code",
      "source": [
        "tf.reduce_min(Z[0,0])"
      ],
      "metadata": {
        "colab": {
          "base_uri": "https://localhost:8080/"
        },
        "id": "iVc3NpmXJNNC",
        "outputId": "0fd3d3c9-5953-4973-9ac5-793d957cedc9"
      },
      "execution_count": null,
      "outputs": [
        {
          "output_type": "execute_result",
          "data": {
            "text/plain": [
              "<tf.Tensor: shape=(), dtype=float32, numpy=0.09354973>"
            ]
          },
          "metadata": {},
          "execution_count": 20
        }
      ]
    },
    {
      "cell_type": "code",
      "source": [
        "Big = tf.constant(np.arange(1,150529),shape=[1,224,224,3])"
      ],
      "metadata": {
        "id": "wv_Cy-h_KI9H"
      },
      "execution_count": null,
      "outputs": []
    },
    {
      "cell_type": "code",
      "source": [
        "tf.squeeze(Big)"
      ],
      "metadata": {
        "colab": {
          "base_uri": "https://localhost:8080/"
        },
        "id": "3yCZu_1vKdCd",
        "outputId": "830d09f0-0bf0-4da4-9d74-c54592058f0a"
      },
      "execution_count": null,
      "outputs": [
        {
          "output_type": "execute_result",
          "data": {
            "text/plain": [
              "<tf.Tensor: shape=(224, 224, 3), dtype=int64, numpy=\n",
              "array([[[     1,      2,      3],\n",
              "        [     4,      5,      6],\n",
              "        [     7,      8,      9],\n",
              "        ...,\n",
              "        [   664,    665,    666],\n",
              "        [   667,    668,    669],\n",
              "        [   670,    671,    672]],\n",
              "\n",
              "       [[   673,    674,    675],\n",
              "        [   676,    677,    678],\n",
              "        [   679,    680,    681],\n",
              "        ...,\n",
              "        [  1336,   1337,   1338],\n",
              "        [  1339,   1340,   1341],\n",
              "        [  1342,   1343,   1344]],\n",
              "\n",
              "       [[  1345,   1346,   1347],\n",
              "        [  1348,   1349,   1350],\n",
              "        [  1351,   1352,   1353],\n",
              "        ...,\n",
              "        [  2008,   2009,   2010],\n",
              "        [  2011,   2012,   2013],\n",
              "        [  2014,   2015,   2016]],\n",
              "\n",
              "       ...,\n",
              "\n",
              "       [[148513, 148514, 148515],\n",
              "        [148516, 148517, 148518],\n",
              "        [148519, 148520, 148521],\n",
              "        ...,\n",
              "        [149176, 149177, 149178],\n",
              "        [149179, 149180, 149181],\n",
              "        [149182, 149183, 149184]],\n",
              "\n",
              "       [[149185, 149186, 149187],\n",
              "        [149188, 149189, 149190],\n",
              "        [149191, 149192, 149193],\n",
              "        ...,\n",
              "        [149848, 149849, 149850],\n",
              "        [149851, 149852, 149853],\n",
              "        [149854, 149855, 149856]],\n",
              "\n",
              "       [[149857, 149858, 149859],\n",
              "        [149860, 149861, 149862],\n",
              "        [149863, 149864, 149865],\n",
              "        ...,\n",
              "        [150520, 150521, 150522],\n",
              "        [150523, 150524, 150525],\n",
              "        [150526, 150527, 150528]]])>"
            ]
          },
          "metadata": {},
          "execution_count": 27
        }
      ]
    },
    {
      "cell_type": "code",
      "source": [
        "final = tf.constant([3,432,14235,532,5,34,24,2,34,4])\n",
        "tf.argmax(final)"
      ],
      "metadata": {
        "colab": {
          "base_uri": "https://localhost:8080/"
        },
        "id": "_l-heMgTKjN0",
        "outputId": "d17e154b-db50-4d38-a69a-54ee69da0d47"
      },
      "execution_count": null,
      "outputs": [
        {
          "output_type": "execute_result",
          "data": {
            "text/plain": [
              "<tf.Tensor: shape=(), dtype=int64, numpy=2>"
            ]
          },
          "metadata": {},
          "execution_count": 28
        }
      ]
    }
  ]
}